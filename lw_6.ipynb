{
  "nbformat": 4,
  "nbformat_minor": 0,
  "metadata": {
    "accelerator": "GPU",
    "colab": {
      "name": "LW_6.ipynb",
      "provenance": [],
      "collapsed_sections": [],
      "toc_visible": true,
      "mount_file_id": "1LzlaFMiI6XmuNyXH_pwk3OGjn1jtngKr",
      "authorship_tag": "ABX9TyPBFxQsb0oyKEEJfc83E/3q",
      "include_colab_link": true
    },
    "kernelspec": {
      "display_name": "Python 3",
      "name": "python3"
    }
  },
  "cells": [
    {
      "cell_type": "markdown",
      "metadata": {
        "id": "view-in-github",
        "colab_type": "text"
      },
      "source": [
        "<a href=\"https://colab.research.google.com/gist/Leo-Sun-BMSTU/4a11ac79f1ea26f4d8e27420464ce4c7/lw_6.ipynb\" target=\"_parent\"><img src=\"https://colab.research.google.com/assets/colab-badge.svg\" alt=\"Open In Colab\"/></a>"
      ]
    },
    {
      "cell_type": "markdown",
      "metadata": {
        "id": "cN9Hh8X5W0TP"
      },
      "source": [
        "# Лабораторная работа №6. Текстовый эмбединг."
      ]
    },
    {
      "cell_type": "markdown",
      "metadata": {
        "id": "NuYRcFigXEtP"
      },
      "source": [
        "Рассмотрим задачу классификации текстов на 2 класса: \"Сильмариллион\" и \"Танкист. Победитель драконов\" (книга сомнительного качества жанра попаданцы)"
      ]
    },
    {
      "cell_type": "code",
      "metadata": {
        "colab": {
          "base_uri": "https://localhost:8080/"
        },
        "id": "6bBKDSLB5asb",
        "outputId": "e201f0ce-1050-4d41-a767-3f38856a16a8"
      },
      "source": [
        "!pip install nltk snowballstemmer pymorphy2 pymystem3 gensim"
      ],
      "execution_count": 1,
      "outputs": [
        {
          "output_type": "stream",
          "text": [
            "Requirement already satisfied: nltk in /usr/local/lib/python3.6/dist-packages (3.2.5)\n",
            "Requirement already satisfied: snowballstemmer in /usr/local/lib/python3.6/dist-packages (2.0.0)\n",
            "Collecting pymorphy2\n",
            "\u001b[?25l  Downloading https://files.pythonhosted.org/packages/07/57/b2ff2fae3376d4f3c697b9886b64a54b476e1a332c67eee9f88e7f1ae8c9/pymorphy2-0.9.1-py3-none-any.whl (55kB)\n",
            "\r\u001b[K     |██████                          | 10kB 20.7MB/s eta 0:00:01\r\u001b[K     |███████████▉                    | 20kB 16.4MB/s eta 0:00:01\r\u001b[K     |█████████████████▊              | 30kB 13.7MB/s eta 0:00:01\r\u001b[K     |███████████████████████▋        | 40kB 12.8MB/s eta 0:00:01\r\u001b[K     |█████████████████████████████▌  | 51kB 9.5MB/s eta 0:00:01\r\u001b[K     |████████████████████████████████| 61kB 5.7MB/s \n",
            "\u001b[?25hRequirement already satisfied: pymystem3 in /usr/local/lib/python3.6/dist-packages (0.2.0)\n",
            "Requirement already satisfied: gensim in /usr/local/lib/python3.6/dist-packages (3.6.0)\n",
            "Requirement already satisfied: six in /usr/local/lib/python3.6/dist-packages (from nltk) (1.15.0)\n",
            "Requirement already satisfied: docopt>=0.6 in /usr/local/lib/python3.6/dist-packages (from pymorphy2) (0.6.2)\n",
            "Collecting dawg-python>=0.7.1\n",
            "  Downloading https://files.pythonhosted.org/packages/6a/84/ff1ce2071d4c650ec85745766c0047ccc3b5036f1d03559fd46bb38b5eeb/DAWG_Python-0.7.2-py2.py3-none-any.whl\n",
            "Collecting pymorphy2-dicts-ru<3.0,>=2.4\n",
            "\u001b[?25l  Downloading https://files.pythonhosted.org/packages/3a/79/bea0021eeb7eeefde22ef9e96badf174068a2dd20264b9a378f2be1cdd9e/pymorphy2_dicts_ru-2.4.417127.4579844-py2.py3-none-any.whl (8.2MB)\n",
            "\u001b[K     |████████████████████████████████| 8.2MB 9.2MB/s \n",
            "\u001b[?25hRequirement already satisfied: requests in /usr/local/lib/python3.6/dist-packages (from pymystem3) (2.23.0)\n",
            "Requirement already satisfied: smart-open>=1.2.1 in /usr/local/lib/python3.6/dist-packages (from gensim) (4.1.0)\n",
            "Requirement already satisfied: numpy>=1.11.3 in /usr/local/lib/python3.6/dist-packages (from gensim) (1.19.5)\n",
            "Requirement already satisfied: scipy>=0.18.1 in /usr/local/lib/python3.6/dist-packages (from gensim) (1.4.1)\n",
            "Requirement already satisfied: certifi>=2017.4.17 in /usr/local/lib/python3.6/dist-packages (from requests->pymystem3) (2020.12.5)\n",
            "Requirement already satisfied: chardet<4,>=3.0.2 in /usr/local/lib/python3.6/dist-packages (from requests->pymystem3) (3.0.4)\n",
            "Requirement already satisfied: idna<3,>=2.5 in /usr/local/lib/python3.6/dist-packages (from requests->pymystem3) (2.10)\n",
            "Requirement already satisfied: urllib3!=1.25.0,!=1.25.1,<1.26,>=1.21.1 in /usr/local/lib/python3.6/dist-packages (from requests->pymystem3) (1.24.3)\n",
            "Installing collected packages: dawg-python, pymorphy2-dicts-ru, pymorphy2\n",
            "Successfully installed dawg-python-0.7.2 pymorphy2-0.9.1 pymorphy2-dicts-ru-2.4.417127.4579844\n"
          ],
          "name": "stdout"
        }
      ]
    },
    {
      "cell_type": "markdown",
      "metadata": {
        "id": "SD_pACOlh7FG"
      },
      "source": [
        "# Предобработка текстов"
      ]
    },
    {
      "cell_type": "markdown",
      "metadata": {
        "id": "GWHdLjD3iBay"
      },
      "source": [
        "Преобразование текстов к единому виду 🔛"
      ]
    },
    {
      "cell_type": "markdown",
      "metadata": {
        "id": "VnnhZuYuiy6O"
      },
      "source": [
        "Считывание файла ⬇️"
      ]
    },
    {
      "cell_type": "code",
      "metadata": {
        "colab": {
          "base_uri": "https://localhost:8080/",
          "height": 154
        },
        "id": "xlzannJT5atR",
        "outputId": "fa280fe5-6839-40d4-914e-ae4dd6921134"
      },
      "source": [
        "with open(\"/content/drive/MyDrive/Colab Notebooks/LW_6/Silmar1/sil_marillion (1).txt\", encoding=\"utf8\") as f:\n",
        "    example_text = f.read()\n",
        "\n",
        "example_text"
      ],
      "execution_count": 2,
      "outputs": [
        {
          "output_type": "execute_result",
          "data": {
            "application/vnd.google.colaboratory.intrinsic+json": {
              "type": "string"
            },
            "text/plain": [
              "'\\ufeffНазвание книги: Сильмариллион\\nАвтор(ы): Толкиен Джон\\nЖанр: Фэнтези\\nАИНУЛИНДАЛЕ (Музыка Аинур)\\nЭру Единственный, кого в Арда называли «Илюватар», был всегда.\\nВначале Он сотворил Аинур, Первых Святых, порождение Его мысли, и они были при Нем уже тогда, когда еще ничего другого не было.\\nИ Он обратился к ним и дал им темы для музыки, и они пели для Него, и Эру радовался.\\nНо долгое время они пели поодиночке, либо малыми группами, а остальные слушали, потому что каждый воспринимал только ту часть разума Илюватара, воплощенного в теме музыки, из которой сам был создан. И каждый медленно постигал каждого. Но все же слушая они пришли к более глубокому пониманию, и пение становилось все более гармоничным.\\nИ случилось так, что Илюватар созвал всех Аинур и предложил им величественную сцену, показав вещи более значительные и удивительные, чем те, что Он открыл им раньше. Но великолепие начала этой темы и блеск ее окончания так изумил Аинур, что они склонились перед Илюватаром и молчали.\\nТогда Илюватар сказал им: «Я желаю, чтобы по предложенной вам теме вы все вместе создали гармоничную великую музыку. И так как в вас горит зажженное мной вечное пламя, вы покажете свою силу, украсив эту тему каждый по своему разумению и способностям. Я же буду смотреть и слушать и радоваться великой красоте, что пробудится в песне с вашей помощью».\\nИ вот голоса Аинур, подобно арфам и лютням, флейтам и трубам, скрипкам и органам, подобные бесчисленным хорам, начали развивать тему Илюватара. И звуки бесконечно чередовались в гармонично сотканных мелодиях, уходивших за пределы слуха в глубину и в высоту. И место, где обитал Илюватар, переполнилось звуками, и музыка, и эхо музыки ушли в пустоту, и та перестала быть пустотой. Никогда больше с тех пор не создавали Аинур музыки, подобной этой. Но говорят, что более величественная музыка прозвучит перед Илюватаром, сотворенная хорами Аинур и детей Илюватара, когда настанет конец дней. И лишь тогда темы Илюватара зазвучат правильно и обретут Бытие, потому что все тогда поймут Его замыслы, и каждый постигнет разум каждого. И Илюватар даст их мыслям тайный огонь и возрадуется этому.\\nПока же Илюватар сидел и слушал, и долгое время не находил недостатков в музыке. Но тема развивалась, и вот Мелькор начал вплетать в нее образы, порожденные его собственным воображением, не согласующиеся с темой Илюватара, потому что Мелькор искал способ увеличить силу и славу той части темы, что была назначена ему.\\nМелькору, среди всех Аинур были даны величайшие дары могущества и знаний, к тому же он имел часть во всех хорах, полученных его собратьями. Он часто бродил один, разыскивая Вечное пламя, потому что Мелькора сжигало желание принести в Бытие свои собственные творения. Ему казалось, что Илюватар обошел вниманием пустоту, и Мелькор хотел заполнить ее. Однако он не нашел огня, потому что этот огонь – в Илюватаре. Но когда Мелькор бродил в одиночестве, у него стали возникать собственные замыслы, отличные от замыслов собратьев.\\nНекоторые из этих мыслей он начал теперь вплетать в свою музыку. И тотчас же прозвучал диссонанс, и многие из тех, кто пел вблизи Мелькора, пришли в замешательство, и мысли их спутались, и музыка их начала спотыкаться, а некоторые начали подстраивать свою музыку к музыке Мелькора, предпочитая ее той, которая возникла в их собственных мыслях. И тогда диссонанс, порожденный Мелькором, стал распространяться все шире, и мелодии, слышавшиеся до этого, утонули в море бурных звуков.\\nНо Илюватар сидел и слушал, пока не стало казаться, что вокруг Его трона бушует яростный шторм, как будто темные волны двинулись войной друг против друга в бесконечном гневе, который ничем нельзя успокоить.\\nТогда Илюватар встал, и Аинур увидели, что Он улыбается. Он поднял левую руку, и вот среди бури зазвучала готовая тема, похожая и не похожая на \\n'"
            ]
          },
          "metadata": {
            "tags": []
          },
          "execution_count": 2
        }
      ]
    },
    {
      "cell_type": "markdown",
      "metadata": {
        "id": "PlPyeDWljeNt"
      },
      "source": [
        "Токенизация (токен - элементарная единица текста, слово, часть слова)"
      ]
    },
    {
      "cell_type": "code",
      "metadata": {
        "colab": {
          "base_uri": "https://localhost:8080/"
        },
        "id": "QimCuLAl5atz",
        "outputId": "391dbfc6-0c5c-4d24-96e5-4cd8d0266564"
      },
      "source": [
        "import nltk\n",
        "nltk.download('punkt')\n",
        "tokens = nltk.word_tokenize(example_text)\n",
        "tokens[20:30]"
      ],
      "execution_count": 3,
      "outputs": [
        {
          "output_type": "stream",
          "text": [
            "[nltk_data] Downloading package punkt to /root/nltk_data...\n",
            "[nltk_data]   Unzipping tokenizers/punkt.zip.\n"
          ],
          "name": "stdout"
        },
        {
          "output_type": "execute_result",
          "data": {
            "text/plain": [
              "['Единственный',\n",
              " ',',\n",
              " 'кого',\n",
              " 'в',\n",
              " 'Арда',\n",
              " 'называли',\n",
              " '«',\n",
              " 'Илюватар',\n",
              " '»',\n",
              " ',']"
            ]
          },
          "metadata": {
            "tags": []
          },
          "execution_count": 3
        }
      ]
    },
    {
      "cell_type": "markdown",
      "metadata": {
        "id": "dmWw5ziIkBHU"
      },
      "source": [
        "Стеммирование - приведение к единому виду"
      ]
    },
    {
      "cell_type": "code",
      "metadata": {
        "id": "DRb7HwK35auJ",
        "colab": {
          "base_uri": "https://localhost:8080/"
        },
        "outputId": "ff07df1a-9e0d-48ef-c9fe-d9c66e9ceaca"
      },
      "source": [
        "from snowballstemmer import RussianStemmer\n",
        "stemmer = RussianStemmer()\n",
        "stemmer.stemWords(example_text.lower().split())"
      ],
      "execution_count": 4,
      "outputs": [
        {
          "output_type": "execute_result",
          "data": {
            "text/plain": [
              "['\\ufeffназван',\n",
              " 'книги:',\n",
              " 'сильмариллион',\n",
              " 'автор(ы):',\n",
              " 'толк',\n",
              " 'джон',\n",
              " 'жанр:',\n",
              " 'фэнтез',\n",
              " 'аинулиндал',\n",
              " '(музык',\n",
              " 'аинур)',\n",
              " 'эр',\n",
              " 'единственный,',\n",
              " 'ког',\n",
              " 'в',\n",
              " 'ард',\n",
              " 'называ',\n",
              " '«илюватар»,',\n",
              " 'был',\n",
              " 'всегда.',\n",
              " 'вначал',\n",
              " 'он',\n",
              " 'сотвор',\n",
              " 'аинур,',\n",
              " 'перв',\n",
              " 'святых,',\n",
              " 'порожден',\n",
              " 'ег',\n",
              " 'мысли,',\n",
              " 'и',\n",
              " 'он',\n",
              " 'был',\n",
              " 'при',\n",
              " 'нем',\n",
              " 'уж',\n",
              " 'тогда,',\n",
              " 'когд',\n",
              " 'ещ',\n",
              " 'нич',\n",
              " 'друг',\n",
              " 'не',\n",
              " 'было.',\n",
              " 'и',\n",
              " 'он',\n",
              " 'обрат',\n",
              " 'к',\n",
              " 'ним',\n",
              " 'и',\n",
              " 'дал',\n",
              " 'им',\n",
              " 'тем',\n",
              " 'для',\n",
              " 'музыки,',\n",
              " 'и',\n",
              " 'он',\n",
              " 'пел',\n",
              " 'для',\n",
              " 'него,',\n",
              " 'и',\n",
              " 'эр',\n",
              " 'радовался.',\n",
              " 'но',\n",
              " 'долг',\n",
              " 'врем',\n",
              " 'он',\n",
              " 'пел',\n",
              " 'поодиночке,',\n",
              " 'либ',\n",
              " 'мал',\n",
              " 'группами,',\n",
              " 'а',\n",
              " 'остальн',\n",
              " 'слушали,',\n",
              " 'пот',\n",
              " 'что',\n",
              " 'кажд',\n",
              " 'воспринима',\n",
              " 'тольк',\n",
              " 'ту',\n",
              " 'част',\n",
              " 'разум',\n",
              " 'илюватара,',\n",
              " 'воплощен',\n",
              " 'в',\n",
              " 'тем',\n",
              " 'музыки,',\n",
              " 'из',\n",
              " 'котор',\n",
              " 'сам',\n",
              " 'был',\n",
              " 'создан.',\n",
              " 'и',\n",
              " 'кажд',\n",
              " 'медлен',\n",
              " 'постига',\n",
              " 'каждого.',\n",
              " 'но',\n",
              " 'все',\n",
              " 'же',\n",
              " 'слуш',\n",
              " 'он',\n",
              " 'пришл',\n",
              " 'к',\n",
              " 'бол',\n",
              " 'глубок',\n",
              " 'пониманию,',\n",
              " 'и',\n",
              " 'пен',\n",
              " 'станов',\n",
              " 'все',\n",
              " 'бол',\n",
              " 'гармоничным.',\n",
              " 'и',\n",
              " 'случ',\n",
              " 'так,',\n",
              " 'что',\n",
              " 'илюватар',\n",
              " 'созва',\n",
              " 'всех',\n",
              " 'аинур',\n",
              " 'и',\n",
              " 'предлож',\n",
              " 'им',\n",
              " 'величествен',\n",
              " 'сцену,',\n",
              " 'показа',\n",
              " 'вещ',\n",
              " 'бол',\n",
              " 'значительн',\n",
              " 'и',\n",
              " 'удивительные,',\n",
              " 'чем',\n",
              " 'те,',\n",
              " 'что',\n",
              " 'он',\n",
              " 'откр',\n",
              " 'им',\n",
              " 'раньше.',\n",
              " 'но',\n",
              " 'великолеп',\n",
              " 'нача',\n",
              " 'эт',\n",
              " 'тем',\n",
              " 'и',\n",
              " 'блеск',\n",
              " 'е',\n",
              " 'окончан',\n",
              " 'так',\n",
              " 'изум',\n",
              " 'аинур,',\n",
              " 'что',\n",
              " 'он',\n",
              " 'склон',\n",
              " 'перед',\n",
              " 'илюватар',\n",
              " 'и',\n",
              " 'молчали.',\n",
              " 'тогд',\n",
              " 'илюватар',\n",
              " 'сказа',\n",
              " 'им:',\n",
              " '«я',\n",
              " 'желаю,',\n",
              " 'чтоб',\n",
              " 'по',\n",
              " 'предложен',\n",
              " 'вам',\n",
              " 'тем',\n",
              " 'вы',\n",
              " 'все',\n",
              " 'вмест',\n",
              " 'созда',\n",
              " 'гармоничн',\n",
              " 'велик',\n",
              " 'музыку.',\n",
              " 'и',\n",
              " 'так',\n",
              " 'как',\n",
              " 'в',\n",
              " 'вас',\n",
              " 'гор',\n",
              " 'зажжен',\n",
              " 'мно',\n",
              " 'вечн',\n",
              " 'пламя,',\n",
              " 'вы',\n",
              " 'покажет',\n",
              " 'сво',\n",
              " 'силу,',\n",
              " 'украс',\n",
              " 'эт',\n",
              " 'тем',\n",
              " 'кажд',\n",
              " 'по',\n",
              " 'сво',\n",
              " 'разумен',\n",
              " 'и',\n",
              " 'способностям.',\n",
              " 'я',\n",
              " 'же',\n",
              " 'буд',\n",
              " 'смотрет',\n",
              " 'и',\n",
              " 'слуша',\n",
              " 'и',\n",
              " 'радова',\n",
              " 'велик',\n",
              " 'красоте,',\n",
              " 'что',\n",
              " 'пробуд',\n",
              " 'в',\n",
              " 'песн',\n",
              " 'с',\n",
              " 'ваш',\n",
              " 'помощью».',\n",
              " 'и',\n",
              " 'вот',\n",
              " 'голос',\n",
              " 'аинур,',\n",
              " 'подобн',\n",
              " 'арф',\n",
              " 'и',\n",
              " 'лютням,',\n",
              " 'флейт',\n",
              " 'и',\n",
              " 'трубам,',\n",
              " 'скрипк',\n",
              " 'и',\n",
              " 'органам,',\n",
              " 'подобн',\n",
              " 'бесчислен',\n",
              " 'хорам,',\n",
              " 'нача',\n",
              " 'развива',\n",
              " 'тем',\n",
              " 'илюватара.',\n",
              " 'и',\n",
              " 'звук',\n",
              " 'бесконечн',\n",
              " 'чередова',\n",
              " 'в',\n",
              " 'гармоничн',\n",
              " 'сотка',\n",
              " 'мелодиях,',\n",
              " 'уход',\n",
              " 'за',\n",
              " 'предел',\n",
              " 'слух',\n",
              " 'в',\n",
              " 'глубин',\n",
              " 'и',\n",
              " 'в',\n",
              " 'высоту.',\n",
              " 'и',\n",
              " 'место,',\n",
              " 'где',\n",
              " 'обита',\n",
              " 'илюватар,',\n",
              " 'переполн',\n",
              " 'звуками,',\n",
              " 'и',\n",
              " 'музыка,',\n",
              " 'и',\n",
              " 'эх',\n",
              " 'музык',\n",
              " 'ушл',\n",
              " 'в',\n",
              " 'пустоту,',\n",
              " 'и',\n",
              " 'та',\n",
              " 'переста',\n",
              " 'быт',\n",
              " 'пустотой.',\n",
              " 'никогд',\n",
              " 'больш',\n",
              " 'с',\n",
              " 'тех',\n",
              " 'пор',\n",
              " 'не',\n",
              " 'создава',\n",
              " 'аинур',\n",
              " 'музыки,',\n",
              " 'подобн',\n",
              " 'этой.',\n",
              " 'но',\n",
              " 'говорят,',\n",
              " 'что',\n",
              " 'бол',\n",
              " 'величествен',\n",
              " 'музык',\n",
              " 'прозвуч',\n",
              " 'перед',\n",
              " 'илюватаром,',\n",
              " 'сотворен',\n",
              " 'хор',\n",
              " 'аинур',\n",
              " 'и',\n",
              " 'дет',\n",
              " 'илюватара,',\n",
              " 'когд',\n",
              " 'настанет',\n",
              " 'конец',\n",
              " 'дней.',\n",
              " 'и',\n",
              " 'лиш',\n",
              " 'тогд',\n",
              " 'тем',\n",
              " 'илюватар',\n",
              " 'зазвучат',\n",
              " 'правильн',\n",
              " 'и',\n",
              " 'обретут',\n",
              " 'бытие,',\n",
              " 'пот',\n",
              " 'что',\n",
              " 'все',\n",
              " 'тогд',\n",
              " 'поймут',\n",
              " 'ег',\n",
              " 'замыслы,',\n",
              " 'и',\n",
              " 'кажд',\n",
              " 'постигнет',\n",
              " 'разум',\n",
              " 'каждого.',\n",
              " 'и',\n",
              " 'илюватар',\n",
              " 'даст',\n",
              " 'их',\n",
              " 'мысл',\n",
              " 'тайн',\n",
              " 'огон',\n",
              " 'и',\n",
              " 'возрад',\n",
              " 'этому.',\n",
              " 'пок',\n",
              " 'же',\n",
              " 'илюватар',\n",
              " 'сидел',\n",
              " 'и',\n",
              " 'слушал,',\n",
              " 'и',\n",
              " 'долг',\n",
              " 'врем',\n",
              " 'не',\n",
              " 'наход',\n",
              " 'недостатк',\n",
              " 'в',\n",
              " 'музыке.',\n",
              " 'но',\n",
              " 'тем',\n",
              " 'развивалась,',\n",
              " 'и',\n",
              " 'вот',\n",
              " 'мелькор',\n",
              " 'нача',\n",
              " 'вплета',\n",
              " 'в',\n",
              " 'не',\n",
              " 'образы,',\n",
              " 'порожден',\n",
              " 'ег',\n",
              " 'собствен',\n",
              " 'воображением,',\n",
              " 'не',\n",
              " 'соглас',\n",
              " 'с',\n",
              " 'тем',\n",
              " 'илюватара,',\n",
              " 'пот',\n",
              " 'что',\n",
              " 'мелькор',\n",
              " 'иска',\n",
              " 'способ',\n",
              " 'увелич',\n",
              " 'сил',\n",
              " 'и',\n",
              " 'слав',\n",
              " 'то',\n",
              " 'част',\n",
              " 'темы,',\n",
              " 'что',\n",
              " 'был',\n",
              " 'назнач',\n",
              " 'ему.',\n",
              " 'мелькору,',\n",
              " 'сред',\n",
              " 'всех',\n",
              " 'аинур',\n",
              " 'был',\n",
              " 'дан',\n",
              " 'величайш',\n",
              " 'дар',\n",
              " 'могуществ',\n",
              " 'и',\n",
              " 'знаний,',\n",
              " 'к',\n",
              " 'том',\n",
              " 'же',\n",
              " 'он',\n",
              " 'имел',\n",
              " 'част',\n",
              " 'во',\n",
              " 'всех',\n",
              " 'хорах,',\n",
              " 'получен',\n",
              " 'ег',\n",
              " 'собратьями.',\n",
              " 'он',\n",
              " 'част',\n",
              " 'брод',\n",
              " 'один,',\n",
              " 'разыскив',\n",
              " 'вечн',\n",
              " 'пламя,',\n",
              " 'пот',\n",
              " 'что',\n",
              " 'мелькор',\n",
              " 'сжига',\n",
              " 'желан',\n",
              " 'принест',\n",
              " 'в',\n",
              " 'быт',\n",
              " 'сво',\n",
              " 'собствен',\n",
              " 'творения.',\n",
              " 'ем',\n",
              " 'казалось,',\n",
              " 'что',\n",
              " 'илюватар',\n",
              " 'обошел',\n",
              " 'вниман',\n",
              " 'пустоту,',\n",
              " 'и',\n",
              " 'мелькор',\n",
              " 'хотел',\n",
              " 'заполн',\n",
              " 'ее.',\n",
              " 'однак',\n",
              " 'он',\n",
              " 'не',\n",
              " 'нашел',\n",
              " 'огня,',\n",
              " 'пот',\n",
              " 'что',\n",
              " 'этот',\n",
              " 'огон',\n",
              " '–',\n",
              " 'в',\n",
              " 'илюватаре.',\n",
              " 'но',\n",
              " 'когд',\n",
              " 'мелькор',\n",
              " 'брод',\n",
              " 'в',\n",
              " 'одиночестве,',\n",
              " 'у',\n",
              " 'нег',\n",
              " 'стал',\n",
              " 'возника',\n",
              " 'собствен',\n",
              " 'замыслы,',\n",
              " 'отличн',\n",
              " 'от',\n",
              " 'замысл',\n",
              " 'собратьев.',\n",
              " 'некотор',\n",
              " 'из',\n",
              " 'эт',\n",
              " 'мысл',\n",
              " 'он',\n",
              " 'нача',\n",
              " 'тепер',\n",
              " 'вплета',\n",
              " 'в',\n",
              " 'сво',\n",
              " 'музыку.',\n",
              " 'и',\n",
              " 'тотчас',\n",
              " 'же',\n",
              " 'прозвуча',\n",
              " 'диссонанс,',\n",
              " 'и',\n",
              " 'мног',\n",
              " 'из',\n",
              " 'тех,',\n",
              " 'кто',\n",
              " 'пел',\n",
              " 'вблиз',\n",
              " 'мелькора,',\n",
              " 'пришл',\n",
              " 'в',\n",
              " 'замешательство,',\n",
              " 'и',\n",
              " 'мысл',\n",
              " 'их',\n",
              " 'спутались,',\n",
              " 'и',\n",
              " 'музык',\n",
              " 'их',\n",
              " 'нача',\n",
              " 'спотыкаться,',\n",
              " 'а',\n",
              " 'некотор',\n",
              " 'нача',\n",
              " 'подстраива',\n",
              " 'сво',\n",
              " 'музык',\n",
              " 'к',\n",
              " 'музык',\n",
              " 'мелькора,',\n",
              " 'предпочит',\n",
              " 'е',\n",
              " 'той,',\n",
              " 'котор',\n",
              " 'возникл',\n",
              " 'в',\n",
              " 'их',\n",
              " 'собствен',\n",
              " 'мыслях.',\n",
              " 'и',\n",
              " 'тогд',\n",
              " 'диссонанс,',\n",
              " 'порожден',\n",
              " 'мелькором,',\n",
              " 'стал',\n",
              " 'распространя',\n",
              " 'все',\n",
              " 'шире,',\n",
              " 'и',\n",
              " 'мелодии,',\n",
              " 'слыша',\n",
              " 'до',\n",
              " 'этого,',\n",
              " 'утонул',\n",
              " 'в',\n",
              " 'мор',\n",
              " 'бурн',\n",
              " 'звуков.',\n",
              " 'но',\n",
              " 'илюватар',\n",
              " 'сидел',\n",
              " 'и',\n",
              " 'слушал,',\n",
              " 'пок',\n",
              " 'не',\n",
              " 'стал',\n",
              " 'казаться,',\n",
              " 'что',\n",
              " 'вокруг',\n",
              " 'ег',\n",
              " 'трон',\n",
              " 'буш',\n",
              " 'яростн',\n",
              " 'шторм,',\n",
              " 'как',\n",
              " 'будт',\n",
              " 'темн',\n",
              " 'волн',\n",
              " 'двинул',\n",
              " 'войн',\n",
              " 'друг',\n",
              " 'прот',\n",
              " 'друг',\n",
              " 'в',\n",
              " 'бесконечн',\n",
              " 'гневе,',\n",
              " 'котор',\n",
              " 'нич',\n",
              " 'нельз',\n",
              " 'успокоить.',\n",
              " 'тогд',\n",
              " 'илюватар',\n",
              " 'встал,',\n",
              " 'и',\n",
              " 'аинур',\n",
              " 'увидели,',\n",
              " 'что',\n",
              " 'он',\n",
              " 'улыбается.',\n",
              " 'он',\n",
              " 'подня',\n",
              " 'лев',\n",
              " 'руку,',\n",
              " 'и',\n",
              " 'вот',\n",
              " 'сред',\n",
              " 'бур',\n",
              " 'зазвуча',\n",
              " 'готов',\n",
              " 'тема,',\n",
              " 'похож',\n",
              " 'и',\n",
              " 'не',\n",
              " 'похож',\n",
              " 'на']"
            ]
          },
          "metadata": {
            "tags": []
          },
          "execution_count": 4
        }
      ]
    },
    {
      "cell_type": "code",
      "metadata": {
        "colab": {
          "base_uri": "https://localhost:8080/"
        },
        "id": "NSC2ZIxKI1qN",
        "outputId": "4e412d52-85f4-4812-ae74-477c753caf5d"
      },
      "source": [
        "!pip install pymystem3"
      ],
      "execution_count": 5,
      "outputs": [
        {
          "output_type": "stream",
          "text": [
            "Requirement already satisfied: pymystem3 in /usr/local/lib/python3.6/dist-packages (0.2.0)\n",
            "Requirement already satisfied: requests in /usr/local/lib/python3.6/dist-packages (from pymystem3) (2.23.0)\n",
            "Requirement already satisfied: urllib3!=1.25.0,!=1.25.1,<1.26,>=1.21.1 in /usr/local/lib/python3.6/dist-packages (from requests->pymystem3) (1.24.3)\n",
            "Requirement already satisfied: certifi>=2017.4.17 in /usr/local/lib/python3.6/dist-packages (from requests->pymystem3) (2020.12.5)\n",
            "Requirement already satisfied: chardet<4,>=3.0.2 in /usr/local/lib/python3.6/dist-packages (from requests->pymystem3) (3.0.4)\n",
            "Requirement already satisfied: idna<3,>=2.5 in /usr/local/lib/python3.6/dist-packages (from requests->pymystem3) (2.10)\n"
          ],
          "name": "stdout"
        }
      ]
    },
    {
      "cell_type": "code",
      "metadata": {
        "colab": {
          "base_uri": "https://localhost:8080/"
        },
        "id": "JChZQJWajndL",
        "outputId": "d3b77242-9c11-49ef-ff94-13cc40129f3d"
      },
      "source": [
        "!wget http://download.cdn.yandex.net/mystem/mystem-3.0-linux3.1-64bit.tar.gz\r\n",
        "!tar -xvf mystem-3.0-linux3.1-64bit.tar.gz\r\n",
        "!cp mystem /root/.local/bin/mystem"
      ],
      "execution_count": 8,
      "outputs": [
        {
          "output_type": "stream",
          "text": [
            "--2021-01-18 08:09:30--  http://download.cdn.yandex.net/mystem/mystem-3.0-linux3.1-64bit.tar.gz\n",
            "Resolving download.cdn.yandex.net (download.cdn.yandex.net)... 5.45.205.242, 5.45.205.243, 5.45.205.245, ...\n",
            "Connecting to download.cdn.yandex.net (download.cdn.yandex.net)|5.45.205.242|:80... connected.\n",
            "HTTP request sent, awaiting response... 302 Found\n",
            "Location: http://cache-mskm901.cdn.yandex.net/download.cdn.yandex.net/mystem/mystem-3.0-linux3.1-64bit.tar.gz [following]\n",
            "--2021-01-18 08:09:31--  http://cache-mskm901.cdn.yandex.net/download.cdn.yandex.net/mystem/mystem-3.0-linux3.1-64bit.tar.gz\n",
            "Resolving cache-mskm901.cdn.yandex.net (cache-mskm901.cdn.yandex.net)... 5.45.220.11, 2a02:6b8:0:2002::12\n",
            "Connecting to cache-mskm901.cdn.yandex.net (cache-mskm901.cdn.yandex.net)|5.45.220.11|:80... connected.\n",
            "HTTP request sent, awaiting response... 200 OK\n",
            "Length: 16457938 (16M) [application/octet-stream]\n",
            "Saving to: ‘mystem-3.0-linux3.1-64bit.tar.gz.1’\n",
            "\n",
            "mystem-3.0-linux3.1 100%[===================>]  15.70M  7.22MB/s    in 2.2s    \n",
            "\n",
            "2021-01-18 08:09:34 (7.22 MB/s) - ‘mystem-3.0-linux3.1-64bit.tar.gz.1’ saved [16457938/16457938]\n",
            "\n",
            "mystem\n"
          ],
          "name": "stdout"
        }
      ]
    },
    {
      "cell_type": "markdown",
      "metadata": {
        "id": "Y2Q_pra1keLE"
      },
      "source": [
        "Лемматизация - аналог стеммера"
      ]
    },
    {
      "cell_type": "code",
      "metadata": {
        "id": "jgPhgtcLGw-u",
        "colab": {
          "base_uri": "https://localhost:8080/"
        },
        "outputId": "15d5a1a6-773b-4d7f-dbdb-c1bd067535f0"
      },
      "source": [
        "import pymystem3 \r\n",
        "mystem = pymystem3.Mystem()\r\n",
        "lemm = mystem.lemmatize(' '.join(tokens[:200]))\r\n",
        "lemm[20:30]"
      ],
      "execution_count": 9,
      "outputs": [
        {
          "output_type": "execute_result",
          "data": {
            "text/plain": [
              "[' ( ',\n",
              " 'музыка',\n",
              " ' ',\n",
              " 'аинур',\n",
              " ' ) ',\n",
              " 'эра',\n",
              " ' ',\n",
              " 'единственный',\n",
              " ' , ',\n",
              " 'кто']"
            ]
          },
          "metadata": {
            "tags": []
          },
          "execution_count": 9
        }
      ]
    },
    {
      "cell_type": "markdown",
      "metadata": {
        "id": "V_Q4CnJvlxH_"
      },
      "source": [
        "Морфологический анализатор - аналог стеммера и лемматизатора"
      ]
    },
    {
      "cell_type": "code",
      "metadata": {
        "colab": {
          "base_uri": "https://localhost:8080/"
        },
        "id": "FsBuT3vflugm",
        "outputId": "fe3a0962-04ba-46c4-9c2d-b55fc859d505"
      },
      "source": [
        "import pymorphy2\r\n",
        "morph = pymorphy2.MorphAnalyzer()\r\n",
        "lemm_pymorph = [morph.parse(s)[0].normal_form for s in tokens[:200]]\r\n",
        "lemm_pymorph[20:30]"
      ],
      "execution_count": 10,
      "outputs": [
        {
          "output_type": "execute_result",
          "data": {
            "text/plain": [
              "['единственный', ',', 'кто', 'в', 'ард', 'называть', '«', 'илюватар', '»', ',']"
            ]
          },
          "metadata": {
            "tags": []
          },
          "execution_count": 10
        }
      ]
    },
    {
      "cell_type": "markdown",
      "metadata": {
        "id": "sPWFhyBQtA3R"
      },
      "source": [
        "Конкатенация - сборка текста"
      ]
    },
    {
      "cell_type": "code",
      "metadata": {
        "colab": {
          "base_uri": "https://localhost:8080/",
          "height": 154
        },
        "id": "VqQC-M6PnOSe",
        "outputId": "6433ce89-51ad-4de0-a906-eb22c58742b5"
      },
      "source": [
        "' '.join(lemm_pymorph)"
      ],
      "execution_count": 11,
      "outputs": [
        {
          "output_type": "execute_result",
          "data": {
            "application/vnd.google.colaboratory.intrinsic+json": {
              "type": "string"
            },
            "text/plain": [
              "'\\ufeffназвание книга : сильмариллион автор ( ы ) : толкиен джон жанр : фэнтези аинулиндал ( музыка аинур ) эра единственный , кто в ард называть « илюватар » , быть всегда . вначале он сотворить аинур , первый святой , порождение он мысль , и они быть при немой уже тогда , когда ещё ничего другой не быть . и он обратиться к они и дать они тема для музыка , и они петь для он , и эра радоваться . но долгий время они петь поодиночке , либо малый группа , а остальной слушать , потому что каждый воспринимать только тот часть разум илюватар , воплотить в тема музыка , из который сам быть создать . и каждый медленно постигать каждый . но всё же слушать они прислать к более глубокий понимание , и пение становиться всё более гармоничный . и случиться так , что илюватар созвать весь аинур и предложить они величественный сцена , показать вещь более значительный и удивительный , чем тот , что он открыть они ранний . но великолепие начало этот тема и блеск она окончание так изумить аинур , что они склониться перед илюватар и молчать . тогда илюватар сказать они : «'"
            ]
          },
          "metadata": {
            "tags": []
          },
          "execution_count": 11
        }
      ]
    },
    {
      "cell_type": "markdown",
      "metadata": {
        "id": "f7Ym_62Ynlnb"
      },
      "source": [
        "# Формирование выборки"
      ]
    },
    {
      "cell_type": "markdown",
      "metadata": {
        "id": "Ir1rNMjEttz7"
      },
      "source": [
        "Функция лемматизатор"
      ]
    },
    {
      "cell_type": "code",
      "metadata": {
        "id": "RO79MvHe5av8"
      },
      "source": [
        "from string import punctuation\n",
        "\n",
        "def lemmatize(input_text):\n",
        "    tokens = nltk.word_tokenize(input_text)\n",
        "    normed_tokens = [morph.parse(s)[0].normal_form for s in tokens]\n",
        "    # исключим также стоп-слова - всякие предлоги, союзы и т.п.\n",
        "    normed_tokens = [word for word in normed_tokens if word not in nltk.corpus.stopwords.words(\"russian\")]\n",
        "    # а также знаки препинания\n",
        "    normed_tokens = [word for word in normed_tokens if word not in punctuation]\n",
        "    return ' '.join(normed_tokens)"
      ],
      "execution_count": 12,
      "outputs": []
    },
    {
      "cell_type": "markdown",
      "metadata": {
        "id": "irVeruQ3t8Iy"
      },
      "source": [
        "Создание алгоритма классификатора"
      ]
    },
    {
      "cell_type": "code",
      "metadata": {
        "colab": {
          "base_uri": "https://localhost:8080/"
        },
        "id": "7CRBo4gy5awI",
        "outputId": "d3f27251-0bf4-4543-fbcb-623d857a2557"
      },
      "source": [
        "import os\n",
        "import pandas as pd\n",
        "import nltk\n",
        "nltk.download('stopwords')\n",
        "\n",
        "# подготовим пустой датафрейм\n",
        "df = pd.DataFrame(columns=['text', 'class'])\n",
        "\n",
        "# это папки, в которых лежат файлы с текстами\n",
        "dir0 = \"/content/drive/MyDrive/Colab Notebooks/LW_6/Silmar1\"\n",
        "dir1 = \"/content/drive/MyDrive/Colab Notebooks/LW_6/Tankist1\"\n",
        "\n",
        "# считаем все наши тексты в датафрейм с указанием класса\n",
        "for filename in os.listdir(dir0):\n",
        "    with open(os.path.join(dir0, filename), encoding='utf8') as file:\n",
        "        contents = lemmatize(file.read())\n",
        "    df = df.append(pd.Series({'text': contents, 'class': 0}), ignore_index=True)"
      ],
      "execution_count": 13,
      "outputs": [
        {
          "output_type": "stream",
          "text": [
            "[nltk_data] Downloading package stopwords to /root/nltk_data...\n",
            "[nltk_data]   Unzipping corpora/stopwords.zip.\n"
          ],
          "name": "stdout"
        }
      ]
    },
    {
      "cell_type": "code",
      "metadata": {
        "id": "mKP5umTD5awR"
      },
      "source": [
        "# и для второй папки тоже\n",
        "for filename in os.listdir(dir1):\n",
        "    with open(os.path.join(dir1, filename), encoding='utf8') as file:\n",
        "        contents = lemmatize(file.read())\n",
        "    df = df.append(pd.Series({'text': contents, 'class': 1}), ignore_index=True)\n",
        "\n",
        "#data_paths = [i for i in (os.path.join(in_dir, f) for f in os.listdir(in_dir)) if os.path.isfile(i)]"
      ],
      "execution_count": 14,
      "outputs": []
    },
    {
      "cell_type": "code",
      "metadata": {
        "colab": {
          "base_uri": "https://localhost:8080/",
          "height": 402
        },
        "id": "Lwyg1TLDx2Jv",
        "outputId": "0fe0017a-5200-4e11-8f08-8ee834ddd6ec"
      },
      "source": [
        "df"
      ],
      "execution_count": 15,
      "outputs": [
        {
          "output_type": "execute_result",
          "data": {
            "text/html": [
              "<div>\n",
              "<style scoped>\n",
              "    .dataframe tbody tr th:only-of-type {\n",
              "        vertical-align: middle;\n",
              "    }\n",
              "\n",
              "    .dataframe tbody tr th {\n",
              "        vertical-align: top;\n",
              "    }\n",
              "\n",
              "    .dataframe thead th {\n",
              "        text-align: right;\n",
              "    }\n",
              "</style>\n",
              "<table border=\"1\" class=\"dataframe\">\n",
              "  <thead>\n",
              "    <tr style=\"text-align: right;\">\n",
              "      <th></th>\n",
              "      <th>text</th>\n",
              "      <th>class</th>\n",
              "    </tr>\n",
              "  </thead>\n",
              "  <tbody>\n",
              "    <tr>\n",
              "      <th>0</th>\n",
              "      <td>﻿название книга сильмариллион автор ы толкиен ...</td>\n",
              "      <td>0</td>\n",
              "    </tr>\n",
              "    <tr>\n",
              "      <th>1</th>\n",
              "      <td>﻿прежний сила новый красота диссонанс мелькора...</td>\n",
              "      <td>0</td>\n",
              "    </tr>\n",
              "    <tr>\n",
              "      <th>2</th>\n",
              "      <td>﻿хаос мелькор увидеть всё сделать увидеть вала...</td>\n",
              "      <td>0</td>\n",
              "    </tr>\n",
              "    <tr>\n",
              "      <th>3</th>\n",
              "      <td>﻿вместе манва жить вард королева звезда извест...</td>\n",
              "      <td>0</td>\n",
              "    </tr>\n",
              "    <tr>\n",
              "      <th>4</th>\n",
              "      <td>﻿красота замысел ребёнок илюватар – это поздни...</td>\n",
              "      <td>0</td>\n",
              "    </tr>\n",
              "    <tr>\n",
              "      <th>...</th>\n",
              "      <td>...</td>\n",
              "      <td>...</td>\n",
              "    </tr>\n",
              "    <tr>\n",
              "      <th>180</th>\n",
              "      <td>﻿смена обстановка очень быстро надоесть возвра...</td>\n",
              "      <td>1</td>\n",
              "    </tr>\n",
              "    <tr>\n",
              "      <th>181</th>\n",
              "      <td>﻿далёкий хватить шкура зверь достойный кандида...</td>\n",
              "      <td>1</td>\n",
              "    </tr>\n",
              "    <tr>\n",
              "      <th>182</th>\n",
              "      <td>﻿когда рассматривать обгореть тушить первый зв...</td>\n",
              "      <td>1</td>\n",
              "    </tr>\n",
              "    <tr>\n",
              "      <th>183</th>\n",
              "      <td>﻿ текст предоставить ооо « литрес » прочитать ...</td>\n",
              "      <td>1</td>\n",
              "    </tr>\n",
              "    <tr>\n",
              "      <th>184</th>\n",
              "      <td>﻿доставать подстрелить зверь какой-нибудь случ...</td>\n",
              "      <td>1</td>\n",
              "    </tr>\n",
              "  </tbody>\n",
              "</table>\n",
              "<p>185 rows × 2 columns</p>\n",
              "</div>"
            ],
            "text/plain": [
              "                                                  text class\n",
              "0    ﻿название книга сильмариллион автор ы толкиен ...     0\n",
              "1    ﻿прежний сила новый красота диссонанс мелькора...     0\n",
              "2    ﻿хаос мелькор увидеть всё сделать увидеть вала...     0\n",
              "3    ﻿вместе манва жить вард королева звезда извест...     0\n",
              "4    ﻿красота замысел ребёнок илюватар – это поздни...     0\n",
              "..                                                 ...   ...\n",
              "180  ﻿смена обстановка очень быстро надоесть возвра...     1\n",
              "181  ﻿далёкий хватить шкура зверь достойный кандида...     1\n",
              "182  ﻿когда рассматривать обгореть тушить первый зв...     1\n",
              "183  ﻿ текст предоставить ооо « литрес » прочитать ...     1\n",
              "184  ﻿доставать подстрелить зверь какой-нибудь случ...     1\n",
              "\n",
              "[185 rows x 2 columns]"
            ]
          },
          "metadata": {
            "tags": []
          },
          "execution_count": 15
        }
      ]
    },
    {
      "cell_type": "markdown",
      "metadata": {
        "id": "NEQBQn5bubXe"
      },
      "source": [
        "Деление выборки на учебную и тестовую"
      ]
    },
    {
      "cell_type": "code",
      "metadata": {
        "id": "l8HdLY3e5aws"
      },
      "source": [
        "import sklearn\n",
        "from sklearn.model_selection import train_test_split\n",
        "X_train, X_test, y_train, y_test = train_test_split(df['text'], df['class'], test_size=0.2, stratify=df['class'])"
      ],
      "execution_count": 16,
      "outputs": []
    },
    {
      "cell_type": "markdown",
      "metadata": {
        "id": "CaO0LDfd-0ba"
      },
      "source": [
        "# BoW (Bag of words) эмбеддинг"
      ]
    },
    {
      "cell_type": "markdown",
      "metadata": {
        "id": "QVe_Bc82uxAn"
      },
      "source": [
        "Преобразование текста в пригодную форму"
      ]
    },
    {
      "cell_type": "code",
      "metadata": {
        "id": "uNwwK3wz5aw2"
      },
      "source": [
        "from sklearn.feature_extraction.text import CountVectorizer\n",
        "import numpy as np\n",
        "\n",
        "bof_vect = CountVectorizer()\n",
        "bof_vect.fit(np.hstack([X_train, X_test]))\n",
        "bof_train = bof_vect.transform(X_train)\n",
        "bof_test = bof_vect.transform(X_test)"
      ],
      "execution_count": 17,
      "outputs": []
    },
    {
      "cell_type": "markdown",
      "metadata": {
        "id": "gcQFJ0QkvVcz"
      },
      "source": [
        "Вид признакового пространства"
      ]
    },
    {
      "cell_type": "code",
      "metadata": {
        "colab": {
          "base_uri": "https://localhost:8080/"
        },
        "id": "Gcvbr7VP5axG",
        "outputId": "62652923-342a-4817-e1f4-e510e2a891c7"
      },
      "source": [
        "bof_train.toarray()"
      ],
      "execution_count": 18,
      "outputs": [
        {
          "output_type": "execute_result",
          "data": {
            "text/plain": [
              "array([[0, 0, 0, ..., 0, 0, 0],\n",
              "       [0, 0, 0, ..., 0, 0, 0],\n",
              "       [0, 0, 0, ..., 0, 0, 0],\n",
              "       ...,\n",
              "       [0, 0, 0, ..., 0, 0, 0],\n",
              "       [0, 0, 0, ..., 0, 0, 0],\n",
              "       [0, 0, 0, ..., 0, 0, 0]])"
            ]
          },
          "metadata": {
            "tags": []
          },
          "execution_count": 18
        }
      ]
    },
    {
      "cell_type": "code",
      "metadata": {
        "colab": {
          "base_uri": "https://localhost:8080/"
        },
        "id": "1zy1rSiU5axS",
        "outputId": "4df83edb-c3e4-409d-8c29-d77ece6bfeab"
      },
      "source": [
        "bof_train.toarray().shape"
      ],
      "execution_count": 19,
      "outputs": [
        {
          "output_type": "execute_result",
          "data": {
            "text/plain": [
              "(148, 7729)"
            ]
          },
          "metadata": {
            "tags": []
          },
          "execution_count": 19
        }
      ]
    },
    {
      "cell_type": "markdown",
      "metadata": {
        "id": "4PUUDNeL_RiR"
      },
      "source": [
        "# TF-IDF (term frequency, inverse document frequency)"
      ]
    },
    {
      "cell_type": "code",
      "metadata": {
        "id": "hsIcI8S65axc"
      },
      "source": [
        "from sklearn.feature_extraction.text import TfidfVectorizer\n",
        "tfidf_vect = TfidfVectorizer()\n",
        "tfidf_vect.fit(np.hstack([X_train, X_test]))\n",
        "tfidf_train = tfidf_vect.transform(X_train)\n",
        "tfidf_test = tfidf_vect.transform(X_test)"
      ],
      "execution_count": 20,
      "outputs": []
    },
    {
      "cell_type": "markdown",
      "metadata": {
        "id": "E28pL8BX8kUr"
      },
      "source": [
        "# W2V (Word2Vec)"
      ]
    },
    {
      "cell_type": "code",
      "metadata": {
        "id": "Hr7bz_OM5ayA"
      },
      "source": [
        "from gensim.models import Word2Vec\n",
        "X_train_w2v = X_train.apply(str.split)\n",
        "X_test_w2v = X_test.apply(str.split)\n",
        "w2v_vect = Word2Vec(np.hstack([X_train_w2v, X_test_w2v]), size=300, min_count=10, workers=8)"
      ],
      "execution_count": 21,
      "outputs": []
    },
    {
      "cell_type": "markdown",
      "metadata": {
        "id": "XczhzwKywMJL"
      },
      "source": [
        "Преобразование теста в вектор и вычисление суммы векторов"
      ]
    },
    {
      "cell_type": "code",
      "metadata": {
        "colab": {
          "base_uri": "https://localhost:8080/"
        },
        "id": "U4fsAx0W5ay6",
        "outputId": "65ba0d5d-6e1f-40eb-9146-9b421c24c95c"
      },
      "source": [
        "import numpy as np\n",
        "\n",
        "def text2vec(text):\n",
        "    \"\"\"Усредняем векторы слов\"\"\"\n",
        "    vecs = []\n",
        "    for word in text:\n",
        "        try:\n",
        "            vecs.append(w2v_vect[word])\n",
        "        except KeyError:\n",
        "            pass\n",
        "    return np.sum(vecs, axis=0) / len(vecs)\n",
        "\n",
        "w2v_train = X_train_w2v.apply(text2vec)\n",
        "w2v_test = X_test_w2v.apply(text2vec)\n",
        "w2v_train"
      ],
      "execution_count": 22,
      "outputs": [
        {
          "output_type": "stream",
          "text": [
            "/usr/local/lib/python3.6/dist-packages/ipykernel_launcher.py:8: DeprecationWarning: Call to deprecated `__getitem__` (Method will be removed in 4.0.0, use self.wv.__getitem__() instead).\n",
            "  \n"
          ],
          "name": "stderr"
        },
        {
          "output_type": "execute_result",
          "data": {
            "text/plain": [
              "93     [-0.16128471, 0.0063268906, 0.24617174, 0.1222...\n",
              "35     [-0.16674867, 0.006323313, 0.25466776, 0.12666...\n",
              "29     [-0.16476403, 0.0066937, 0.25181016, 0.1250235...\n",
              "172    [-0.16260435, 0.0063381596, 0.24845538, 0.1236...\n",
              "164    [-0.15557127, 0.0061625955, 0.23788685, 0.1181...\n",
              "                             ...                        \n",
              "115    [-0.16904628, 0.0060771448, 0.2580599, 0.12844...\n",
              "95     [-0.16240217, 0.006409545, 0.24786292, 0.12320...\n",
              "173    [-0.1564663, 0.005984018, 0.23881963, 0.118972...\n",
              "182    [-0.15477547, 0.0062382547, 0.2365062, 0.11759...\n",
              "48     [-0.17015606, 0.0066555324, 0.26004887, 0.1291...\n",
              "Name: text, Length: 148, dtype: object"
            ]
          },
          "metadata": {
            "tags": []
          },
          "execution_count": 22
        }
      ]
    },
    {
      "cell_type": "code",
      "metadata": {
        "colab": {
          "base_uri": "https://localhost:8080/"
        },
        "id": "j7k_T-hI5azC",
        "outputId": "52ccf8e8-d1a6-4ced-d52d-81c32f3e3db0"
      },
      "source": [
        "w2v_train.shape"
      ],
      "execution_count": 23,
      "outputs": [
        {
          "output_type": "execute_result",
          "data": {
            "text/plain": [
              "(148,)"
            ]
          },
          "metadata": {
            "tags": []
          },
          "execution_count": 23
        }
      ]
    },
    {
      "cell_type": "code",
      "metadata": {
        "id": "cZSjCQuq5azK",
        "colab": {
          "base_uri": "https://localhost:8080/"
        },
        "outputId": "eed8813f-26ae-4545-d7ff-e1004adf32ee"
      },
      "source": [
        "w2v_train[0]"
      ],
      "execution_count": 24,
      "outputs": [
        {
          "output_type": "execute_result",
          "data": {
            "text/plain": [
              "array([-0.1604697 ,  0.00628997,  0.24565068,  0.12212456,  0.11449349,\n",
              "        0.11382584, -0.07719954,  0.14079054, -0.0400172 ,  0.14564487,\n",
              "        0.10647038, -0.12687685, -0.41893497, -0.11494081,  0.17965604,\n",
              "        0.10676843, -0.08152048, -0.14914265, -0.08048468,  0.13744341,\n",
              "       -0.10963756,  0.04077755, -0.09132417, -0.09410798,  0.0465137 ,\n",
              "        0.01166858,  0.02076367,  0.14108384, -0.10069227,  0.00405927,\n",
              "        0.158041  ,  0.27931568,  0.1316272 ,  0.27498457,  0.15164365,\n",
              "       -0.03965865, -0.1055394 ,  0.02275235, -0.0425503 , -0.23034705,\n",
              "       -0.10887644,  0.20922054,  0.13314359, -0.26086137,  0.09855758,\n",
              "       -0.1448123 , -0.2804359 , -0.08472741, -0.05647061, -0.09139788,\n",
              "        0.0064676 ,  0.05020431, -0.19755432, -0.06768561, -0.02678762,\n",
              "       -0.00413318,  0.03006564, -0.06024826,  0.15237547,  0.2804827 ,\n",
              "        0.18703629, -0.19112004,  0.12427683,  0.17033434, -0.07053664,\n",
              "        0.00504287, -0.09018834, -0.18011737, -0.2325428 ,  0.13795348,\n",
              "       -0.16387473, -0.10690469, -0.02616275, -0.02597582, -0.05199046,\n",
              "       -0.1101346 , -0.07403287, -0.23226908,  0.03645125, -0.00762565,\n",
              "       -0.07153455, -0.2210251 ,  0.09373869,  0.13800842,  0.12826571,\n",
              "        0.05882054,  0.01992123, -0.07644738, -0.08145025, -0.12849823,\n",
              "       -0.04830262, -0.1900719 , -0.03082302, -0.12264619,  0.01620304,\n",
              "        0.12888789, -0.10409107,  0.23593469, -0.18972674,  0.047016  ,\n",
              "        0.13315253,  0.00150649,  0.1020062 ,  0.00143497,  0.04755972,\n",
              "        0.11507311,  0.02670092,  0.03012685,  0.06781227, -0.15158178,\n",
              "        0.04622655, -0.19664416,  0.06639412,  0.19684014,  0.05866526,\n",
              "        0.11379692,  0.00452402,  0.20803711, -0.1332047 ,  0.07362657,\n",
              "       -0.26193723, -0.11429076,  0.06742796,  0.04588767,  0.16845056,\n",
              "       -0.06104489, -0.2661923 ,  0.06902887, -0.03094616, -0.0667461 ,\n",
              "        0.28593618,  0.2577694 ,  0.03330885, -0.05206773, -0.01229847,\n",
              "       -0.19388834, -0.06375474,  0.1095927 ,  0.25815704,  0.14905486,\n",
              "        0.15954016,  0.02012695, -0.22258972,  0.2267511 ,  0.05251213,\n",
              "        0.15738304, -0.11733463, -0.11699684, -0.07953913,  0.20329475,\n",
              "        0.05448303, -0.02869567,  0.02776837, -0.02423752, -0.17816047,\n",
              "       -0.21847863, -0.04868744,  0.12419018, -0.10901608,  0.20961109,\n",
              "       -0.10988059,  0.2282899 ,  0.05502824, -0.0078877 , -0.10567357,\n",
              "        0.02513526, -0.12479284,  0.23863971, -0.08550955,  0.03621013,\n",
              "       -0.05780401,  0.01048322,  0.20797455,  0.03140643, -0.06413218,\n",
              "        0.13261586, -0.15206392,  0.01981263, -0.08614981, -0.0877874 ,\n",
              "        0.18687607, -0.03342083,  0.23308171,  0.1613435 ,  0.16207424,\n",
              "       -0.09649725, -0.11900821,  0.1046767 , -0.12990673,  0.08210895,\n",
              "        0.03021674, -0.15973566,  0.15207627,  0.01186419, -0.0341159 ,\n",
              "       -0.01391947, -0.09504335,  0.02239593,  0.13798042, -0.00651802,\n",
              "       -0.02065336, -0.08444492,  0.13569102, -0.00505021, -0.104018  ,\n",
              "        0.02720389, -0.04135627,  0.06034762,  0.07874376,  0.12318637,\n",
              "       -0.0753668 ,  0.066717  , -0.02614943, -0.04818937, -0.1640696 ,\n",
              "        0.01650028,  0.15166551,  0.02847208,  0.01731591,  0.10823118,\n",
              "       -0.05802194, -0.17465472, -0.03486047, -0.03031494,  0.00771843,\n",
              "        0.05400036, -0.17728682,  0.05478314,  0.02453331,  0.0667476 ,\n",
              "       -0.06089515, -0.05886174, -0.01920024, -0.00053431, -0.05186393,\n",
              "        0.01874806,  0.0650351 ,  0.12289421, -0.06753156,  0.00057886,\n",
              "       -0.06787119,  0.20009103,  0.15567335, -0.17988531,  0.05349647,\n",
              "        0.00631217,  0.03625289,  0.03371362, -0.24242175, -0.18604918,\n",
              "        0.06729628, -0.10215864, -0.00301648,  0.13734771, -0.19126321,\n",
              "       -0.2579042 , -0.18691939,  0.03495681, -0.17194264, -0.12401401,\n",
              "       -0.08285745, -0.13459411,  0.0792616 ,  0.11994414,  0.1829762 ,\n",
              "        0.02384222,  0.0921737 , -0.28636733,  0.17257285,  0.00696617,\n",
              "        0.00514178, -0.07377623, -0.1655008 ,  0.05130723,  0.0261413 ,\n",
              "       -0.03218845,  0.01145046,  0.07458091, -0.04324863,  0.00509087,\n",
              "        0.27917427, -0.11487054, -0.04224363,  0.031832  , -0.1242053 ,\n",
              "       -0.14936109,  0.10170992, -0.11804881,  0.11553654,  0.03509365,\n",
              "       -0.23058747, -0.02546327, -0.30345604, -0.21557628, -0.13729799,\n",
              "       -0.15833439,  0.28812516, -0.09594782,  0.1134783 ,  0.00816461],\n",
              "      dtype=float32)"
            ]
          },
          "metadata": {
            "tags": []
          },
          "execution_count": 24
        }
      ]
    },
    {
      "cell_type": "code",
      "metadata": {
        "id": "BabhNJpY5azQ",
        "colab": {
          "base_uri": "https://localhost:8080/"
        },
        "outputId": "7041cec2-0f70-43a1-989a-34adb8402e5e"
      },
      "source": [
        "w2v_train = np.dstack(w2v_train)[0]\n",
        "w2v_train.shape"
      ],
      "execution_count": 25,
      "outputs": [
        {
          "output_type": "execute_result",
          "data": {
            "text/plain": [
              "(300, 148)"
            ]
          },
          "metadata": {
            "tags": []
          },
          "execution_count": 25
        }
      ]
    },
    {
      "cell_type": "code",
      "metadata": {
        "id": "t6jpS4WY5azY"
      },
      "source": [
        "w2v_test = np.dstack(w2v_test)[0]"
      ],
      "execution_count": 26,
      "outputs": []
    },
    {
      "cell_type": "markdown",
      "metadata": {
        "id": "hVabaDjm6eFB"
      },
      "source": [
        "# Класссификация текстов"
      ]
    },
    {
      "cell_type": "markdown",
      "metadata": {
        "id": "b8QeQvVCxSqD"
      },
      "source": [
        "Обучение классификатора и вычисление суммы векторов для текстов"
      ]
    },
    {
      "cell_type": "markdown",
      "metadata": {
        "id": "CCmizszG1YtQ"
      },
      "source": [
        "Для Bag of Words (BoW)"
      ]
    },
    {
      "cell_type": "code",
      "metadata": {
        "id": "od_zBjR_5azg",
        "colab": {
          "base_uri": "https://localhost:8080/"
        },
        "outputId": "864e0866-e063-4234-b0a6-b0ea72840752"
      },
      "source": [
        "silmar_mean_bof = np.sum(bof_train[y_train.astype(str).astype(int)] == 0, axis=0)\n",
        "silmar_mean_bof.shape"
      ],
      "execution_count": 27,
      "outputs": [
        {
          "output_type": "stream",
          "text": [
            "/usr/local/lib/python3.6/dist-packages/IPython/core/interactiveshell.py:2882: SparseEfficiencyWarning: Comparing a sparse matrix with 0 using == is inefficient, try using != instead.\n",
            "  exec(code_obj, self.user_global_ns, self.user_ns)\n"
          ],
          "name": "stderr"
        },
        {
          "output_type": "execute_result",
          "data": {
            "text/plain": [
              "(1, 7729)"
            ]
          },
          "metadata": {
            "tags": []
          },
          "execution_count": 27
        }
      ]
    },
    {
      "cell_type": "code",
      "metadata": {
        "id": "eBayPFYl5azl"
      },
      "source": [
        "tankist_mean_bof = np.sum(bof_train[y_train.astype(str).astype(int)] == 1, axis=0)"
      ],
      "execution_count": 28,
      "outputs": []
    },
    {
      "cell_type": "markdown",
      "metadata": {
        "id": "LmUf6GTjBCQq"
      },
      "source": [
        "Для TF-IDF (term frequency, inverse document frequency)"
      ]
    },
    {
      "cell_type": "code",
      "metadata": {
        "id": "OJ7AF8tN5azr",
        "colab": {
          "base_uri": "https://localhost:8080/"
        },
        "outputId": "eb781f8f-03c2-4ffc-fce4-fd1e5b98ca5d"
      },
      "source": [
        "silmar_mean_tfidf = np.sum(tfidf_train[y_train.astype(str).astype(int)] == 0, axis=0)\n",
        "silmar_mean_tfidf.shape"
      ],
      "execution_count": 29,
      "outputs": [
        {
          "output_type": "stream",
          "text": [
            "/usr/local/lib/python3.6/dist-packages/IPython/core/interactiveshell.py:2882: SparseEfficiencyWarning: Comparing a sparse matrix with 0 using == is inefficient, try using != instead.\n",
            "  exec(code_obj, self.user_global_ns, self.user_ns)\n"
          ],
          "name": "stderr"
        },
        {
          "output_type": "execute_result",
          "data": {
            "text/plain": [
              "(1, 7729)"
            ]
          },
          "metadata": {
            "tags": []
          },
          "execution_count": 29
        }
      ]
    },
    {
      "cell_type": "code",
      "metadata": {
        "id": "8LmXUYY95az0"
      },
      "source": [
        "tankist_mean_tfidf = np.sum(tfidf_train[y_train.astype(str).astype(int)] == 1, axis=0)"
      ],
      "execution_count": 30,
      "outputs": []
    },
    {
      "cell_type": "markdown",
      "metadata": {
        "id": "-5mkuKHeDiGA"
      },
      "source": [
        "Для Word2Vec (W2V)"
      ]
    },
    {
      "cell_type": "code",
      "metadata": {
        "id": "xEOyoCFQDb9Z",
        "colab": {
          "base_uri": "https://localhost:8080/"
        },
        "outputId": "baa744ba-c828-45fb-c3dd-c7ad7db72976"
      },
      "source": [
        "silmar_mean_w2v = np.sum(w2v_train[:, y_train == 0], axis=1)\r\n",
        "silmar_mean_w2v.shape"
      ],
      "execution_count": 31,
      "outputs": [
        {
          "output_type": "execute_result",
          "data": {
            "text/plain": [
              "(300,)"
            ]
          },
          "metadata": {
            "tags": []
          },
          "execution_count": 31
        }
      ]
    },
    {
      "cell_type": "code",
      "metadata": {
        "id": "FvqLokHl5a0E"
      },
      "source": [
        "tankist_mean_w2v = np.sum(w2v_train[:, y_train == 1], axis=1)"
      ],
      "execution_count": 32,
      "outputs": []
    },
    {
      "cell_type": "markdown",
      "metadata": {
        "id": "obxEcYT52Odv"
      },
      "source": [
        "Вид результатов"
      ]
    },
    {
      "cell_type": "code",
      "metadata": {
        "id": "US88CIP6D6wV",
        "colab": {
          "base_uri": "https://localhost:8080/"
        },
        "outputId": "91ab0693-6022-4e0c-9fbe-4af3e0031e5d"
      },
      "source": [
        "silmar_mean_bof"
      ],
      "execution_count": 33,
      "outputs": [
        {
          "output_type": "execute_result",
          "data": {
            "text/plain": [
              "matrix([[148, 148, 148, ..., 148, 148, 148]], dtype=int64)"
            ]
          },
          "metadata": {
            "tags": []
          },
          "execution_count": 33
        }
      ]
    },
    {
      "cell_type": "code",
      "metadata": {
        "id": "pbG9S3YTD-bS",
        "colab": {
          "base_uri": "https://localhost:8080/"
        },
        "outputId": "ca5fe2a5-24d7-4d54-9059-665fef438934"
      },
      "source": [
        "silmar_mean_tfidf"
      ],
      "execution_count": 34,
      "outputs": [
        {
          "output_type": "execute_result",
          "data": {
            "text/plain": [
              "matrix([[148, 148, 148, ..., 148, 148, 148]], dtype=int64)"
            ]
          },
          "metadata": {
            "tags": []
          },
          "execution_count": 34
        }
      ]
    },
    {
      "cell_type": "code",
      "metadata": {
        "id": "laQdFwoEEBjB",
        "colab": {
          "base_uri": "https://localhost:8080/"
        },
        "outputId": "f47f65b8-752f-48e7-e828-605728510211"
      },
      "source": [
        "silmar_mean_w2v"
      ],
      "execution_count": 35,
      "outputs": [
        {
          "output_type": "execute_result",
          "data": {
            "text/plain": [
              "array([-2.03066540e+01,  7.80079842e-01,  3.09993782e+01,  1.54202347e+01,\n",
              "        1.44915085e+01,  1.43758936e+01, -9.72339725e+00,  1.78054409e+01,\n",
              "       -5.02080822e+00,  1.83636189e+01,  1.33724604e+01, -1.60536957e+01,\n",
              "       -5.29038658e+01, -1.45499887e+01,  2.26063824e+01,  1.34930811e+01,\n",
              "       -1.03252316e+01, -1.88541813e+01, -1.01407785e+01,  1.73029327e+01,\n",
              "       -1.38092880e+01,  5.12593412e+00, -1.15733213e+01, -1.17737684e+01,\n",
              "        5.83213997e+00,  1.47775733e+00,  2.56196713e+00,  1.77917042e+01,\n",
              "       -1.26416674e+01,  4.66709167e-01,  1.98897343e+01,  3.52280083e+01,\n",
              "        1.66168442e+01,  3.47018814e+01,  1.91178856e+01, -5.00652695e+00,\n",
              "       -1.33512201e+01,  2.88089800e+00, -5.36825705e+00, -2.91707096e+01,\n",
              "       -1.37366543e+01,  2.64152222e+01,  1.68691349e+01, -3.29073601e+01,\n",
              "        1.24876051e+01, -1.82648392e+01, -3.54249611e+01, -1.06782665e+01,\n",
              "       -7.13125706e+00, -1.14715900e+01,  7.32173443e-01,  6.34068584e+00,\n",
              "       -2.49540806e+01, -8.57501602e+00, -3.37294269e+00, -4.93115008e-01,\n",
              "        3.77735400e+00, -7.66436052e+00,  1.92586441e+01,  3.54503708e+01,\n",
              "        2.36281376e+01, -2.41265106e+01,  1.56938076e+01,  2.15131054e+01,\n",
              "       -8.93960953e+00,  5.56836843e-01, -1.13439226e+01, -2.26583900e+01,\n",
              "       -2.93626137e+01,  1.73911762e+01, -2.06610813e+01, -1.35330305e+01,\n",
              "       -3.22429299e+00, -3.29876518e+00, -6.54385614e+00, -1.38941832e+01,\n",
              "       -9.44332409e+00, -2.92931957e+01,  4.61899233e+00, -9.77934897e-01,\n",
              "       -9.03656483e+00, -2.79368134e+01,  1.18406448e+01,  1.73877048e+01,\n",
              "        1.61719704e+01,  7.40927696e+00,  2.43384480e+00, -9.65144730e+00,\n",
              "       -1.03091450e+01, -1.62252235e+01, -6.10279465e+00, -2.40212517e+01,\n",
              "       -3.90662599e+00, -1.55222368e+01,  2.01696324e+00,  1.62436504e+01,\n",
              "       -1.32070417e+01,  2.98140297e+01, -2.39494591e+01,  5.88724089e+00,\n",
              "        1.68285370e+01,  1.64187476e-01,  1.28667564e+01,  2.39580199e-01,\n",
              "        5.97120333e+00,  1.44922609e+01,  3.35799789e+00,  3.89500308e+00,\n",
              "        8.58118916e+00, -1.91171818e+01,  5.86716700e+00, -2.48220024e+01,\n",
              "        8.42106915e+00,  2.48510494e+01,  7.40035439e+00,  1.43181038e+01,\n",
              "        4.96323615e-01,  2.61901722e+01, -1.68039608e+01,  9.26269627e+00,\n",
              "       -3.31123505e+01, -1.44342585e+01,  8.50642014e+00,  5.70991039e+00,\n",
              "        2.11991997e+01, -7.65101767e+00, -3.35746841e+01,  8.75827122e+00,\n",
              "       -3.86487746e+00, -8.44619083e+00,  3.61728745e+01,  3.25823517e+01,\n",
              "        4.26814270e+00, -6.50624943e+00, -1.56099153e+00, -2.45065804e+01,\n",
              "       -8.04438019e+00,  1.38260736e+01,  3.25390587e+01,  1.87506771e+01,\n",
              "        2.01505947e+01,  2.50169754e+00, -2.81389256e+01,  2.86254597e+01,\n",
              "        6.68571520e+00,  1.98665009e+01, -1.47619619e+01, -1.47310886e+01,\n",
              "       -9.99338341e+00,  2.56392002e+01,  6.83998775e+00, -3.64276004e+00,\n",
              "        3.55800843e+00, -3.05315566e+00, -2.24472351e+01, -2.76201496e+01,\n",
              "       -6.12808609e+00,  1.57272224e+01, -1.38158722e+01,  2.64658813e+01,\n",
              "       -1.38906717e+01,  2.88628998e+01,  6.95031404e+00, -9.54686642e-01,\n",
              "       -1.33519678e+01,  3.17921042e+00, -1.57722464e+01,  3.01245289e+01,\n",
              "       -1.08735647e+01,  4.54465723e+00, -7.29849863e+00,  1.28391635e+00,\n",
              "        2.62455158e+01,  3.98516035e+00, -8.05608654e+00,  1.67477875e+01,\n",
              "       -1.92675896e+01,  2.45567966e+00, -1.08416929e+01, -1.10684404e+01,\n",
              "        2.36477489e+01, -4.22806931e+00,  2.93731079e+01,  2.04190750e+01,\n",
              "        2.04637032e+01, -1.21718721e+01, -1.50765829e+01,  1.31846981e+01,\n",
              "       -1.64703903e+01,  1.03419161e+01,  3.71397400e+00, -2.01723747e+01,\n",
              "        1.92051907e+01,  1.51643336e+00, -4.33651924e+00, -1.73902214e+00,\n",
              "       -1.20652189e+01,  2.82984805e+00,  1.73772411e+01, -8.35081697e-01,\n",
              "       -2.51816106e+00, -1.06540003e+01,  1.71671848e+01, -6.53051496e-01,\n",
              "       -1.31003771e+01,  3.50092101e+00, -5.24278450e+00,  7.56474543e+00,\n",
              "        9.90776825e+00,  1.55440617e+01, -9.42186546e+00,  8.39070606e+00,\n",
              "       -3.32858801e+00, -6.09279823e+00, -2.06940842e+01,  2.18394065e+00,\n",
              "        1.91675415e+01,  3.68027711e+00,  2.15224767e+00,  1.36884384e+01,\n",
              "       -7.29953098e+00, -2.21015015e+01, -4.33806610e+00, -3.85599685e+00,\n",
              "        9.45029259e-01,  6.88181782e+00, -2.23741608e+01,  6.91766834e+00,\n",
              "        3.08284259e+00,  8.43892956e+00, -7.76452351e+00, -7.40487909e+00,\n",
              "       -2.40218902e+00, -8.09465274e-02, -6.54254913e+00,  2.35675955e+00,\n",
              "        8.23336411e+00,  1.54816971e+01, -8.49565697e+00,  1.36358116e-03,\n",
              "       -8.55196762e+00,  2.53032246e+01,  1.96049042e+01, -2.28123932e+01,\n",
              "        6.72015858e+00,  7.77025938e-01,  4.64223146e+00,  4.21752501e+00,\n",
              "       -3.05662746e+01, -2.35063095e+01,  8.44526482e+00, -1.28271751e+01,\n",
              "       -3.26680928e-01,  1.72897968e+01, -2.42395420e+01, -3.25559082e+01,\n",
              "       -2.35877151e+01,  4.39199018e+00, -2.18065739e+01, -1.56429939e+01,\n",
              "       -1.04775591e+01, -1.70606766e+01,  1.00358553e+01,  1.51307812e+01,\n",
              "        2.30490608e+01,  2.99732924e+00,  1.16073036e+01, -3.61560707e+01,\n",
              "        2.18305035e+01,  9.42885101e-01,  5.66615939e-01, -9.29986572e+00,\n",
              "       -2.08698521e+01,  6.43055630e+00,  3.29106021e+00, -4.07976723e+00,\n",
              "        1.46176612e+00,  9.44841576e+00, -5.51353884e+00,  6.46510124e-01,\n",
              "        3.52547455e+01, -1.45047398e+01, -5.30268192e+00,  3.99582458e+00,\n",
              "       -1.56494293e+01, -1.88649521e+01,  1.28253689e+01, -1.49174995e+01,\n",
              "        1.45303249e+01,  4.38861418e+00, -2.91592274e+01, -3.18042374e+00,\n",
              "       -3.82837753e+01, -2.72414742e+01, -1.73683853e+01, -2.00419121e+01,\n",
              "        3.63568573e+01, -1.21271849e+01,  1.44128962e+01,  1.10180295e+00],\n",
              "      dtype=float32)"
            ]
          },
          "metadata": {
            "tags": []
          },
          "execution_count": 35
        }
      ]
    },
    {
      "cell_type": "markdown",
      "metadata": {
        "id": "K4I4JsBE22_X"
      },
      "source": [
        "Построение датафрейма с результатами классификации тестовой выборки. Текст относится к той книге, с которойего косинусное расстояние больше"
      ]
    },
    {
      "cell_type": "code",
      "metadata": {
        "id": "Ym87ZPZ-XQfa",
        "colab": {
          "base_uri": "https://localhost:8080/",
          "height": 1000
        },
        "outputId": "6605ec21-74cf-4892-fd9d-b779287bff92"
      },
      "source": [
        "from scipy.spatial.distance import cosine\r\n",
        "bof_silmar = np.apply_along_axis(cosine, 1, bof_test.toarray(), v=silmar_mean_bof)\r\n",
        "bof_tankist = np.apply_along_axis(cosine, 1, bof_test.toarray(), v=tankist_mean_bof)\r\n",
        "\r\n",
        "bof_results = pd.DataFrame([\r\n",
        "    bof_silmar,\r\n",
        "    bof_tankist,\r\n",
        "    np.maximum(bof_silmar, bof_tankist) == bof_tankist,\r\n",
        "    y_test\r\n",
        "], index=[\"silmar\", \"tankist\", \"predict\", \"class\"]).T.astype(np.float)\r\n",
        "bof_results"
      ],
      "execution_count": 36,
      "outputs": [
        {
          "output_type": "execute_result",
          "data": {
            "text/html": [
              "<div>\n",
              "<style scoped>\n",
              "    .dataframe tbody tr th:only-of-type {\n",
              "        vertical-align: middle;\n",
              "    }\n",
              "\n",
              "    .dataframe tbody tr th {\n",
              "        vertical-align: top;\n",
              "    }\n",
              "\n",
              "    .dataframe thead th {\n",
              "        text-align: right;\n",
              "    }\n",
              "</style>\n",
              "<table border=\"1\" class=\"dataframe\">\n",
              "  <thead>\n",
              "    <tr style=\"text-align: right;\">\n",
              "      <th></th>\n",
              "      <th>silmar</th>\n",
              "      <th>tankist</th>\n",
              "      <th>predict</th>\n",
              "      <th>class</th>\n",
              "    </tr>\n",
              "  </thead>\n",
              "  <tbody>\n",
              "    <tr>\n",
              "      <th>0</th>\n",
              "      <td>0.880786</td>\n",
              "      <td>0.879775</td>\n",
              "      <td>0.0</td>\n",
              "      <td>0.0</td>\n",
              "    </tr>\n",
              "    <tr>\n",
              "      <th>1</th>\n",
              "      <td>0.886544</td>\n",
              "      <td>0.852971</td>\n",
              "      <td>0.0</td>\n",
              "      <td>0.0</td>\n",
              "    </tr>\n",
              "    <tr>\n",
              "      <th>2</th>\n",
              "      <td>0.879615</td>\n",
              "      <td>0.904053</td>\n",
              "      <td>1.0</td>\n",
              "      <td>0.0</td>\n",
              "    </tr>\n",
              "    <tr>\n",
              "      <th>3</th>\n",
              "      <td>0.884146</td>\n",
              "      <td>0.874699</td>\n",
              "      <td>0.0</td>\n",
              "      <td>0.0</td>\n",
              "    </tr>\n",
              "    <tr>\n",
              "      <th>4</th>\n",
              "      <td>0.895871</td>\n",
              "      <td>0.903291</td>\n",
              "      <td>1.0</td>\n",
              "      <td>0.0</td>\n",
              "    </tr>\n",
              "    <tr>\n",
              "      <th>5</th>\n",
              "      <td>0.860869</td>\n",
              "      <td>0.921835</td>\n",
              "      <td>1.0</td>\n",
              "      <td>1.0</td>\n",
              "    </tr>\n",
              "    <tr>\n",
              "      <th>6</th>\n",
              "      <td>0.894338</td>\n",
              "      <td>0.903267</td>\n",
              "      <td>1.0</td>\n",
              "      <td>0.0</td>\n",
              "    </tr>\n",
              "    <tr>\n",
              "      <th>7</th>\n",
              "      <td>0.863081</td>\n",
              "      <td>0.882442</td>\n",
              "      <td>1.0</td>\n",
              "      <td>0.0</td>\n",
              "    </tr>\n",
              "    <tr>\n",
              "      <th>8</th>\n",
              "      <td>0.879329</td>\n",
              "      <td>0.877846</td>\n",
              "      <td>0.0</td>\n",
              "      <td>0.0</td>\n",
              "    </tr>\n",
              "    <tr>\n",
              "      <th>9</th>\n",
              "      <td>0.878027</td>\n",
              "      <td>0.919295</td>\n",
              "      <td>1.0</td>\n",
              "      <td>0.0</td>\n",
              "    </tr>\n",
              "    <tr>\n",
              "      <th>10</th>\n",
              "      <td>0.923129</td>\n",
              "      <td>1.000000</td>\n",
              "      <td>1.0</td>\n",
              "      <td>1.0</td>\n",
              "    </tr>\n",
              "    <tr>\n",
              "      <th>11</th>\n",
              "      <td>0.884944</td>\n",
              "      <td>0.908725</td>\n",
              "      <td>1.0</td>\n",
              "      <td>0.0</td>\n",
              "    </tr>\n",
              "    <tr>\n",
              "      <th>12</th>\n",
              "      <td>0.885140</td>\n",
              "      <td>0.830919</td>\n",
              "      <td>0.0</td>\n",
              "      <td>0.0</td>\n",
              "    </tr>\n",
              "    <tr>\n",
              "      <th>13</th>\n",
              "      <td>0.888071</td>\n",
              "      <td>0.860599</td>\n",
              "      <td>0.0</td>\n",
              "      <td>0.0</td>\n",
              "    </tr>\n",
              "    <tr>\n",
              "      <th>14</th>\n",
              "      <td>0.870775</td>\n",
              "      <td>0.916141</td>\n",
              "      <td>1.0</td>\n",
              "      <td>1.0</td>\n",
              "    </tr>\n",
              "    <tr>\n",
              "      <th>15</th>\n",
              "      <td>0.875317</td>\n",
              "      <td>0.887137</td>\n",
              "      <td>1.0</td>\n",
              "      <td>0.0</td>\n",
              "    </tr>\n",
              "    <tr>\n",
              "      <th>16</th>\n",
              "      <td>0.883456</td>\n",
              "      <td>0.862611</td>\n",
              "      <td>0.0</td>\n",
              "      <td>0.0</td>\n",
              "    </tr>\n",
              "    <tr>\n",
              "      <th>17</th>\n",
              "      <td>0.867137</td>\n",
              "      <td>0.946756</td>\n",
              "      <td>1.0</td>\n",
              "      <td>1.0</td>\n",
              "    </tr>\n",
              "    <tr>\n",
              "      <th>18</th>\n",
              "      <td>0.859674</td>\n",
              "      <td>0.921516</td>\n",
              "      <td>1.0</td>\n",
              "      <td>1.0</td>\n",
              "    </tr>\n",
              "    <tr>\n",
              "      <th>19</th>\n",
              "      <td>0.909251</td>\n",
              "      <td>0.893483</td>\n",
              "      <td>0.0</td>\n",
              "      <td>0.0</td>\n",
              "    </tr>\n",
              "    <tr>\n",
              "      <th>20</th>\n",
              "      <td>0.901051</td>\n",
              "      <td>0.896518</td>\n",
              "      <td>0.0</td>\n",
              "      <td>0.0</td>\n",
              "    </tr>\n",
              "    <tr>\n",
              "      <th>21</th>\n",
              "      <td>0.876049</td>\n",
              "      <td>0.854450</td>\n",
              "      <td>0.0</td>\n",
              "      <td>0.0</td>\n",
              "    </tr>\n",
              "    <tr>\n",
              "      <th>22</th>\n",
              "      <td>0.890578</td>\n",
              "      <td>0.886154</td>\n",
              "      <td>0.0</td>\n",
              "      <td>0.0</td>\n",
              "    </tr>\n",
              "    <tr>\n",
              "      <th>23</th>\n",
              "      <td>0.890521</td>\n",
              "      <td>0.883702</td>\n",
              "      <td>0.0</td>\n",
              "      <td>0.0</td>\n",
              "    </tr>\n",
              "    <tr>\n",
              "      <th>24</th>\n",
              "      <td>0.883887</td>\n",
              "      <td>0.931322</td>\n",
              "      <td>1.0</td>\n",
              "      <td>0.0</td>\n",
              "    </tr>\n",
              "    <tr>\n",
              "      <th>25</th>\n",
              "      <td>0.915456</td>\n",
              "      <td>0.941520</td>\n",
              "      <td>1.0</td>\n",
              "      <td>0.0</td>\n",
              "    </tr>\n",
              "    <tr>\n",
              "      <th>26</th>\n",
              "      <td>0.866709</td>\n",
              "      <td>0.871755</td>\n",
              "      <td>1.0</td>\n",
              "      <td>0.0</td>\n",
              "    </tr>\n",
              "    <tr>\n",
              "      <th>27</th>\n",
              "      <td>0.911221</td>\n",
              "      <td>0.883359</td>\n",
              "      <td>0.0</td>\n",
              "      <td>0.0</td>\n",
              "    </tr>\n",
              "    <tr>\n",
              "      <th>28</th>\n",
              "      <td>0.890590</td>\n",
              "      <td>0.892151</td>\n",
              "      <td>1.0</td>\n",
              "      <td>0.0</td>\n",
              "    </tr>\n",
              "    <tr>\n",
              "      <th>29</th>\n",
              "      <td>0.863679</td>\n",
              "      <td>0.905658</td>\n",
              "      <td>1.0</td>\n",
              "      <td>0.0</td>\n",
              "    </tr>\n",
              "    <tr>\n",
              "      <th>30</th>\n",
              "      <td>0.872392</td>\n",
              "      <td>0.860897</td>\n",
              "      <td>0.0</td>\n",
              "      <td>0.0</td>\n",
              "    </tr>\n",
              "    <tr>\n",
              "      <th>31</th>\n",
              "      <td>0.873451</td>\n",
              "      <td>0.903458</td>\n",
              "      <td>1.0</td>\n",
              "      <td>0.0</td>\n",
              "    </tr>\n",
              "    <tr>\n",
              "      <th>32</th>\n",
              "      <td>0.872283</td>\n",
              "      <td>0.891100</td>\n",
              "      <td>1.0</td>\n",
              "      <td>0.0</td>\n",
              "    </tr>\n",
              "    <tr>\n",
              "      <th>33</th>\n",
              "      <td>0.904776</td>\n",
              "      <td>0.910707</td>\n",
              "      <td>1.0</td>\n",
              "      <td>0.0</td>\n",
              "    </tr>\n",
              "    <tr>\n",
              "      <th>34</th>\n",
              "      <td>0.883146</td>\n",
              "      <td>0.923592</td>\n",
              "      <td>1.0</td>\n",
              "      <td>0.0</td>\n",
              "    </tr>\n",
              "    <tr>\n",
              "      <th>35</th>\n",
              "      <td>0.861298</td>\n",
              "      <td>0.955913</td>\n",
              "      <td>1.0</td>\n",
              "      <td>1.0</td>\n",
              "    </tr>\n",
              "    <tr>\n",
              "      <th>36</th>\n",
              "      <td>0.868103</td>\n",
              "      <td>0.947218</td>\n",
              "      <td>1.0</td>\n",
              "      <td>1.0</td>\n",
              "    </tr>\n",
              "  </tbody>\n",
              "</table>\n",
              "</div>"
            ],
            "text/plain": [
              "      silmar   tankist  predict  class\n",
              "0   0.880786  0.879775      0.0    0.0\n",
              "1   0.886544  0.852971      0.0    0.0\n",
              "2   0.879615  0.904053      1.0    0.0\n",
              "3   0.884146  0.874699      0.0    0.0\n",
              "4   0.895871  0.903291      1.0    0.0\n",
              "5   0.860869  0.921835      1.0    1.0\n",
              "6   0.894338  0.903267      1.0    0.0\n",
              "7   0.863081  0.882442      1.0    0.0\n",
              "8   0.879329  0.877846      0.0    0.0\n",
              "9   0.878027  0.919295      1.0    0.0\n",
              "10  0.923129  1.000000      1.0    1.0\n",
              "11  0.884944  0.908725      1.0    0.0\n",
              "12  0.885140  0.830919      0.0    0.0\n",
              "13  0.888071  0.860599      0.0    0.0\n",
              "14  0.870775  0.916141      1.0    1.0\n",
              "15  0.875317  0.887137      1.0    0.0\n",
              "16  0.883456  0.862611      0.0    0.0\n",
              "17  0.867137  0.946756      1.0    1.0\n",
              "18  0.859674  0.921516      1.0    1.0\n",
              "19  0.909251  0.893483      0.0    0.0\n",
              "20  0.901051  0.896518      0.0    0.0\n",
              "21  0.876049  0.854450      0.0    0.0\n",
              "22  0.890578  0.886154      0.0    0.0\n",
              "23  0.890521  0.883702      0.0    0.0\n",
              "24  0.883887  0.931322      1.0    0.0\n",
              "25  0.915456  0.941520      1.0    0.0\n",
              "26  0.866709  0.871755      1.0    0.0\n",
              "27  0.911221  0.883359      0.0    0.0\n",
              "28  0.890590  0.892151      1.0    0.0\n",
              "29  0.863679  0.905658      1.0    0.0\n",
              "30  0.872392  0.860897      0.0    0.0\n",
              "31  0.873451  0.903458      1.0    0.0\n",
              "32  0.872283  0.891100      1.0    0.0\n",
              "33  0.904776  0.910707      1.0    0.0\n",
              "34  0.883146  0.923592      1.0    0.0\n",
              "35  0.861298  0.955913      1.0    1.0\n",
              "36  0.868103  0.947218      1.0    1.0"
            ]
          },
          "metadata": {
            "tags": []
          },
          "execution_count": 36
        }
      ]
    },
    {
      "cell_type": "markdown",
      "metadata": {
        "id": "joTkKOYb6R10"
      },
      "source": [
        "Подсчёт accuracy"
      ]
    },
    {
      "cell_type": "code",
      "metadata": {
        "id": "_tvmBgIXgxC5"
      },
      "source": [
        "from sklearn.metrics import accuracy_score\r\n",
        "BOF_score = accuracy_score(bof_results['predict'], bof_results['class'])"
      ],
      "execution_count": 37,
      "outputs": []
    },
    {
      "cell_type": "code",
      "metadata": {
        "id": "vQj_C9UK5a0w",
        "colab": {
          "base_uri": "https://localhost:8080/",
          "height": 1000
        },
        "outputId": "22d9661f-1938-4c91-ce40-2312ee35b05a"
      },
      "source": [
        "tfidf_silmar = np.apply_along_axis(cosine, 1, tfidf_test.toarray(), v=silmar_mean_tfidf)\n",
        "tfidf_tankist = np.apply_along_axis(cosine, 1, tfidf_test.toarray(), v=tankist_mean_tfidf)\n",
        "\n",
        "tfidf_results = pd.DataFrame([\n",
        "    tfidf_silmar,\n",
        "    tfidf_tankist,\n",
        "    np.maximum(tfidf_silmar, tfidf_tankist) == tfidf_tankist,\n",
        "    y_test\n",
        "], index=[\"silmar\", \"tankist\", \"predict\", \"class\"]).T.astype(np.float)\n",
        "tfidf_results"
      ],
      "execution_count": 38,
      "outputs": [
        {
          "output_type": "stream",
          "text": [
            "/usr/local/lib/python3.6/dist-packages/scipy/spatial/distance.py:720: RuntimeWarning: invalid value encountered in double_scalars\n",
            "  dist = 1.0 - uv / np.sqrt(uu * vv)\n"
          ],
          "name": "stderr"
        },
        {
          "output_type": "execute_result",
          "data": {
            "text/html": [
              "<div>\n",
              "<style scoped>\n",
              "    .dataframe tbody tr th:only-of-type {\n",
              "        vertical-align: middle;\n",
              "    }\n",
              "\n",
              "    .dataframe tbody tr th {\n",
              "        vertical-align: top;\n",
              "    }\n",
              "\n",
              "    .dataframe thead th {\n",
              "        text-align: right;\n",
              "    }\n",
              "</style>\n",
              "<table border=\"1\" class=\"dataframe\">\n",
              "  <thead>\n",
              "    <tr style=\"text-align: right;\">\n",
              "      <th></th>\n",
              "      <th>silmar</th>\n",
              "      <th>tankist</th>\n",
              "      <th>predict</th>\n",
              "      <th>class</th>\n",
              "    </tr>\n",
              "  </thead>\n",
              "  <tbody>\n",
              "    <tr>\n",
              "      <th>0</th>\n",
              "      <td>0.872507</td>\n",
              "      <td>NaN</td>\n",
              "      <td>0.0</td>\n",
              "      <td>0.0</td>\n",
              "    </tr>\n",
              "    <tr>\n",
              "      <th>1</th>\n",
              "      <td>0.857972</td>\n",
              "      <td>NaN</td>\n",
              "      <td>0.0</td>\n",
              "      <td>0.0</td>\n",
              "    </tr>\n",
              "    <tr>\n",
              "      <th>2</th>\n",
              "      <td>0.861145</td>\n",
              "      <td>NaN</td>\n",
              "      <td>0.0</td>\n",
              "      <td>0.0</td>\n",
              "    </tr>\n",
              "    <tr>\n",
              "      <th>3</th>\n",
              "      <td>0.860118</td>\n",
              "      <td>NaN</td>\n",
              "      <td>0.0</td>\n",
              "      <td>0.0</td>\n",
              "    </tr>\n",
              "    <tr>\n",
              "      <th>4</th>\n",
              "      <td>0.888619</td>\n",
              "      <td>NaN</td>\n",
              "      <td>0.0</td>\n",
              "      <td>0.0</td>\n",
              "    </tr>\n",
              "    <tr>\n",
              "      <th>5</th>\n",
              "      <td>0.854181</td>\n",
              "      <td>NaN</td>\n",
              "      <td>0.0</td>\n",
              "      <td>1.0</td>\n",
              "    </tr>\n",
              "    <tr>\n",
              "      <th>6</th>\n",
              "      <td>0.884335</td>\n",
              "      <td>NaN</td>\n",
              "      <td>0.0</td>\n",
              "      <td>0.0</td>\n",
              "    </tr>\n",
              "    <tr>\n",
              "      <th>7</th>\n",
              "      <td>0.847267</td>\n",
              "      <td>NaN</td>\n",
              "      <td>0.0</td>\n",
              "      <td>0.0</td>\n",
              "    </tr>\n",
              "    <tr>\n",
              "      <th>8</th>\n",
              "      <td>0.855495</td>\n",
              "      <td>NaN</td>\n",
              "      <td>0.0</td>\n",
              "      <td>0.0</td>\n",
              "    </tr>\n",
              "    <tr>\n",
              "      <th>9</th>\n",
              "      <td>0.852890</td>\n",
              "      <td>NaN</td>\n",
              "      <td>0.0</td>\n",
              "      <td>0.0</td>\n",
              "    </tr>\n",
              "    <tr>\n",
              "      <th>10</th>\n",
              "      <td>0.923341</td>\n",
              "      <td>NaN</td>\n",
              "      <td>0.0</td>\n",
              "      <td>1.0</td>\n",
              "    </tr>\n",
              "    <tr>\n",
              "      <th>11</th>\n",
              "      <td>0.872229</td>\n",
              "      <td>NaN</td>\n",
              "      <td>0.0</td>\n",
              "      <td>0.0</td>\n",
              "    </tr>\n",
              "    <tr>\n",
              "      <th>12</th>\n",
              "      <td>0.861619</td>\n",
              "      <td>NaN</td>\n",
              "      <td>0.0</td>\n",
              "      <td>0.0</td>\n",
              "    </tr>\n",
              "    <tr>\n",
              "      <th>13</th>\n",
              "      <td>0.856322</td>\n",
              "      <td>NaN</td>\n",
              "      <td>0.0</td>\n",
              "      <td>0.0</td>\n",
              "    </tr>\n",
              "    <tr>\n",
              "      <th>14</th>\n",
              "      <td>0.847426</td>\n",
              "      <td>NaN</td>\n",
              "      <td>0.0</td>\n",
              "      <td>1.0</td>\n",
              "    </tr>\n",
              "    <tr>\n",
              "      <th>15</th>\n",
              "      <td>0.858852</td>\n",
              "      <td>NaN</td>\n",
              "      <td>0.0</td>\n",
              "      <td>0.0</td>\n",
              "    </tr>\n",
              "    <tr>\n",
              "      <th>16</th>\n",
              "      <td>0.853947</td>\n",
              "      <td>NaN</td>\n",
              "      <td>0.0</td>\n",
              "      <td>0.0</td>\n",
              "    </tr>\n",
              "    <tr>\n",
              "      <th>17</th>\n",
              "      <td>0.849296</td>\n",
              "      <td>NaN</td>\n",
              "      <td>0.0</td>\n",
              "      <td>1.0</td>\n",
              "    </tr>\n",
              "    <tr>\n",
              "      <th>18</th>\n",
              "      <td>0.844494</td>\n",
              "      <td>NaN</td>\n",
              "      <td>0.0</td>\n",
              "      <td>1.0</td>\n",
              "    </tr>\n",
              "    <tr>\n",
              "      <th>19</th>\n",
              "      <td>0.913129</td>\n",
              "      <td>NaN</td>\n",
              "      <td>0.0</td>\n",
              "      <td>0.0</td>\n",
              "    </tr>\n",
              "    <tr>\n",
              "      <th>20</th>\n",
              "      <td>0.883454</td>\n",
              "      <td>NaN</td>\n",
              "      <td>0.0</td>\n",
              "      <td>0.0</td>\n",
              "    </tr>\n",
              "    <tr>\n",
              "      <th>21</th>\n",
              "      <td>0.857505</td>\n",
              "      <td>NaN</td>\n",
              "      <td>0.0</td>\n",
              "      <td>0.0</td>\n",
              "    </tr>\n",
              "    <tr>\n",
              "      <th>22</th>\n",
              "      <td>0.873795</td>\n",
              "      <td>NaN</td>\n",
              "      <td>0.0</td>\n",
              "      <td>0.0</td>\n",
              "    </tr>\n",
              "    <tr>\n",
              "      <th>23</th>\n",
              "      <td>0.867540</td>\n",
              "      <td>NaN</td>\n",
              "      <td>0.0</td>\n",
              "      <td>0.0</td>\n",
              "    </tr>\n",
              "    <tr>\n",
              "      <th>24</th>\n",
              "      <td>0.872355</td>\n",
              "      <td>NaN</td>\n",
              "      <td>0.0</td>\n",
              "      <td>0.0</td>\n",
              "    </tr>\n",
              "    <tr>\n",
              "      <th>25</th>\n",
              "      <td>0.905207</td>\n",
              "      <td>NaN</td>\n",
              "      <td>0.0</td>\n",
              "      <td>0.0</td>\n",
              "    </tr>\n",
              "    <tr>\n",
              "      <th>26</th>\n",
              "      <td>0.862072</td>\n",
              "      <td>NaN</td>\n",
              "      <td>0.0</td>\n",
              "      <td>0.0</td>\n",
              "    </tr>\n",
              "    <tr>\n",
              "      <th>27</th>\n",
              "      <td>0.900458</td>\n",
              "      <td>NaN</td>\n",
              "      <td>0.0</td>\n",
              "      <td>0.0</td>\n",
              "    </tr>\n",
              "    <tr>\n",
              "      <th>28</th>\n",
              "      <td>0.874136</td>\n",
              "      <td>NaN</td>\n",
              "      <td>0.0</td>\n",
              "      <td>0.0</td>\n",
              "    </tr>\n",
              "    <tr>\n",
              "      <th>29</th>\n",
              "      <td>0.847197</td>\n",
              "      <td>NaN</td>\n",
              "      <td>0.0</td>\n",
              "      <td>0.0</td>\n",
              "    </tr>\n",
              "    <tr>\n",
              "      <th>30</th>\n",
              "      <td>0.854326</td>\n",
              "      <td>NaN</td>\n",
              "      <td>0.0</td>\n",
              "      <td>0.0</td>\n",
              "    </tr>\n",
              "    <tr>\n",
              "      <th>31</th>\n",
              "      <td>0.856819</td>\n",
              "      <td>NaN</td>\n",
              "      <td>0.0</td>\n",
              "      <td>0.0</td>\n",
              "    </tr>\n",
              "    <tr>\n",
              "      <th>32</th>\n",
              "      <td>0.848715</td>\n",
              "      <td>NaN</td>\n",
              "      <td>0.0</td>\n",
              "      <td>0.0</td>\n",
              "    </tr>\n",
              "    <tr>\n",
              "      <th>33</th>\n",
              "      <td>0.902701</td>\n",
              "      <td>NaN</td>\n",
              "      <td>0.0</td>\n",
              "      <td>0.0</td>\n",
              "    </tr>\n",
              "    <tr>\n",
              "      <th>34</th>\n",
              "      <td>0.877434</td>\n",
              "      <td>NaN</td>\n",
              "      <td>0.0</td>\n",
              "      <td>0.0</td>\n",
              "    </tr>\n",
              "    <tr>\n",
              "      <th>35</th>\n",
              "      <td>0.845786</td>\n",
              "      <td>NaN</td>\n",
              "      <td>0.0</td>\n",
              "      <td>1.0</td>\n",
              "    </tr>\n",
              "    <tr>\n",
              "      <th>36</th>\n",
              "      <td>0.856738</td>\n",
              "      <td>NaN</td>\n",
              "      <td>0.0</td>\n",
              "      <td>1.0</td>\n",
              "    </tr>\n",
              "  </tbody>\n",
              "</table>\n",
              "</div>"
            ],
            "text/plain": [
              "      silmar  tankist  predict  class\n",
              "0   0.872507      NaN      0.0    0.0\n",
              "1   0.857972      NaN      0.0    0.0\n",
              "2   0.861145      NaN      0.0    0.0\n",
              "3   0.860118      NaN      0.0    0.0\n",
              "4   0.888619      NaN      0.0    0.0\n",
              "5   0.854181      NaN      0.0    1.0\n",
              "6   0.884335      NaN      0.0    0.0\n",
              "7   0.847267      NaN      0.0    0.0\n",
              "8   0.855495      NaN      0.0    0.0\n",
              "9   0.852890      NaN      0.0    0.0\n",
              "10  0.923341      NaN      0.0    1.0\n",
              "11  0.872229      NaN      0.0    0.0\n",
              "12  0.861619      NaN      0.0    0.0\n",
              "13  0.856322      NaN      0.0    0.0\n",
              "14  0.847426      NaN      0.0    1.0\n",
              "15  0.858852      NaN      0.0    0.0\n",
              "16  0.853947      NaN      0.0    0.0\n",
              "17  0.849296      NaN      0.0    1.0\n",
              "18  0.844494      NaN      0.0    1.0\n",
              "19  0.913129      NaN      0.0    0.0\n",
              "20  0.883454      NaN      0.0    0.0\n",
              "21  0.857505      NaN      0.0    0.0\n",
              "22  0.873795      NaN      0.0    0.0\n",
              "23  0.867540      NaN      0.0    0.0\n",
              "24  0.872355      NaN      0.0    0.0\n",
              "25  0.905207      NaN      0.0    0.0\n",
              "26  0.862072      NaN      0.0    0.0\n",
              "27  0.900458      NaN      0.0    0.0\n",
              "28  0.874136      NaN      0.0    0.0\n",
              "29  0.847197      NaN      0.0    0.0\n",
              "30  0.854326      NaN      0.0    0.0\n",
              "31  0.856819      NaN      0.0    0.0\n",
              "32  0.848715      NaN      0.0    0.0\n",
              "33  0.902701      NaN      0.0    0.0\n",
              "34  0.877434      NaN      0.0    0.0\n",
              "35  0.845786      NaN      0.0    1.0\n",
              "36  0.856738      NaN      0.0    1.0"
            ]
          },
          "metadata": {
            "tags": []
          },
          "execution_count": 38
        }
      ]
    },
    {
      "cell_type": "code",
      "metadata": {
        "id": "ZHVj5qtL5a02"
      },
      "source": [
        "TF_IDF_score = accuracy_score(tfidf_results['predict'], tfidf_results['class'])"
      ],
      "execution_count": 39,
      "outputs": []
    },
    {
      "cell_type": "code",
      "metadata": {
        "id": "v6B9vKDg5a07",
        "colab": {
          "base_uri": "https://localhost:8080/",
          "height": 1000
        },
        "outputId": "9252ef24-1225-4db1-887e-e4954efeb5d2"
      },
      "source": [
        "w2v_silmar = np.apply_along_axis(cosine, 0, w2v_test, v=silmar_mean_w2v)\n",
        "w2v_tankist = np.apply_along_axis(cosine, 0, w2v_test, v=tankist_mean_w2v)\n",
        "\n",
        "w2v_results = pd.DataFrame([\n",
        "    w2v_silmar,\n",
        "    w2v_tankist,\n",
        "    np.minimum(w2v_silmar, w2v_tankist) == w2v_tankist,\n",
        "    y_test\n",
        "], index=[\"silmar\", \"tankist\", \"predict\", \"class\"]).T.astype(np.float)\n",
        "w2v_results"
      ],
      "execution_count": 61,
      "outputs": [
        {
          "output_type": "execute_result",
          "data": {
            "text/html": [
              "<div>\n",
              "<style scoped>\n",
              "    .dataframe tbody tr th:only-of-type {\n",
              "        vertical-align: middle;\n",
              "    }\n",
              "\n",
              "    .dataframe tbody tr th {\n",
              "        vertical-align: top;\n",
              "    }\n",
              "\n",
              "    .dataframe thead th {\n",
              "        text-align: right;\n",
              "    }\n",
              "</style>\n",
              "<table border=\"1\" class=\"dataframe\">\n",
              "  <thead>\n",
              "    <tr style=\"text-align: right;\">\n",
              "      <th></th>\n",
              "      <th>silmar</th>\n",
              "      <th>tankist</th>\n",
              "      <th>predict</th>\n",
              "      <th>class</th>\n",
              "    </tr>\n",
              "  </thead>\n",
              "  <tbody>\n",
              "    <tr>\n",
              "      <th>0</th>\n",
              "      <td>6.556511e-07</td>\n",
              "      <td>1.907349e-06</td>\n",
              "      <td>0.0</td>\n",
              "      <td>0.0</td>\n",
              "    </tr>\n",
              "    <tr>\n",
              "      <th>1</th>\n",
              "      <td>7.748604e-07</td>\n",
              "      <td>1.966953e-06</td>\n",
              "      <td>0.0</td>\n",
              "      <td>0.0</td>\n",
              "    </tr>\n",
              "    <tr>\n",
              "      <th>2</th>\n",
              "      <td>5.364418e-07</td>\n",
              "      <td>1.490116e-06</td>\n",
              "      <td>0.0</td>\n",
              "      <td>0.0</td>\n",
              "    </tr>\n",
              "    <tr>\n",
              "      <th>3</th>\n",
              "      <td>4.172325e-07</td>\n",
              "      <td>1.430511e-06</td>\n",
              "      <td>0.0</td>\n",
              "      <td>0.0</td>\n",
              "    </tr>\n",
              "    <tr>\n",
              "      <th>4</th>\n",
              "      <td>1.013279e-06</td>\n",
              "      <td>1.728535e-06</td>\n",
              "      <td>0.0</td>\n",
              "      <td>0.0</td>\n",
              "    </tr>\n",
              "    <tr>\n",
              "      <th>5</th>\n",
              "      <td>2.443790e-06</td>\n",
              "      <td>1.490116e-06</td>\n",
              "      <td>1.0</td>\n",
              "      <td>1.0</td>\n",
              "    </tr>\n",
              "    <tr>\n",
              "      <th>6</th>\n",
              "      <td>1.430511e-06</td>\n",
              "      <td>2.086163e-06</td>\n",
              "      <td>0.0</td>\n",
              "      <td>0.0</td>\n",
              "    </tr>\n",
              "    <tr>\n",
              "      <th>7</th>\n",
              "      <td>3.576279e-07</td>\n",
              "      <td>1.132488e-06</td>\n",
              "      <td>0.0</td>\n",
              "      <td>0.0</td>\n",
              "    </tr>\n",
              "    <tr>\n",
              "      <th>8</th>\n",
              "      <td>7.748604e-07</td>\n",
              "      <td>1.430511e-06</td>\n",
              "      <td>0.0</td>\n",
              "      <td>0.0</td>\n",
              "    </tr>\n",
              "    <tr>\n",
              "      <th>9</th>\n",
              "      <td>8.344650e-07</td>\n",
              "      <td>2.026558e-06</td>\n",
              "      <td>0.0</td>\n",
              "      <td>0.0</td>\n",
              "    </tr>\n",
              "    <tr>\n",
              "      <th>10</th>\n",
              "      <td>3.927946e-05</td>\n",
              "      <td>3.397465e-05</td>\n",
              "      <td>1.0</td>\n",
              "      <td>1.0</td>\n",
              "    </tr>\n",
              "    <tr>\n",
              "      <th>11</th>\n",
              "      <td>6.556511e-07</td>\n",
              "      <td>1.847744e-06</td>\n",
              "      <td>0.0</td>\n",
              "      <td>0.0</td>\n",
              "    </tr>\n",
              "    <tr>\n",
              "      <th>12</th>\n",
              "      <td>6.556511e-07</td>\n",
              "      <td>1.192093e-06</td>\n",
              "      <td>0.0</td>\n",
              "      <td>0.0</td>\n",
              "    </tr>\n",
              "    <tr>\n",
              "      <th>13</th>\n",
              "      <td>4.172325e-07</td>\n",
              "      <td>1.430511e-06</td>\n",
              "      <td>0.0</td>\n",
              "      <td>0.0</td>\n",
              "    </tr>\n",
              "    <tr>\n",
              "      <th>14</th>\n",
              "      <td>1.192093e-06</td>\n",
              "      <td>2.980232e-07</td>\n",
              "      <td>1.0</td>\n",
              "      <td>1.0</td>\n",
              "    </tr>\n",
              "    <tr>\n",
              "      <th>15</th>\n",
              "      <td>1.072884e-06</td>\n",
              "      <td>2.682209e-06</td>\n",
              "      <td>0.0</td>\n",
              "      <td>0.0</td>\n",
              "    </tr>\n",
              "    <tr>\n",
              "      <th>16</th>\n",
              "      <td>6.556511e-07</td>\n",
              "      <td>1.311302e-06</td>\n",
              "      <td>0.0</td>\n",
              "      <td>0.0</td>\n",
              "    </tr>\n",
              "    <tr>\n",
              "      <th>17</th>\n",
              "      <td>2.741814e-06</td>\n",
              "      <td>1.072884e-06</td>\n",
              "      <td>1.0</td>\n",
              "      <td>1.0</td>\n",
              "    </tr>\n",
              "    <tr>\n",
              "      <th>18</th>\n",
              "      <td>1.609325e-06</td>\n",
              "      <td>1.788139e-07</td>\n",
              "      <td>1.0</td>\n",
              "      <td>1.0</td>\n",
              "    </tr>\n",
              "    <tr>\n",
              "      <th>19</th>\n",
              "      <td>1.013279e-06</td>\n",
              "      <td>1.490116e-06</td>\n",
              "      <td>0.0</td>\n",
              "      <td>0.0</td>\n",
              "    </tr>\n",
              "    <tr>\n",
              "      <th>20</th>\n",
              "      <td>8.344650e-07</td>\n",
              "      <td>1.192093e-06</td>\n",
              "      <td>0.0</td>\n",
              "      <td>0.0</td>\n",
              "    </tr>\n",
              "    <tr>\n",
              "      <th>21</th>\n",
              "      <td>1.132488e-06</td>\n",
              "      <td>2.563000e-06</td>\n",
              "      <td>0.0</td>\n",
              "      <td>0.0</td>\n",
              "    </tr>\n",
              "    <tr>\n",
              "      <th>22</th>\n",
              "      <td>2.980232e-07</td>\n",
              "      <td>1.668930e-06</td>\n",
              "      <td>0.0</td>\n",
              "      <td>0.0</td>\n",
              "    </tr>\n",
              "    <tr>\n",
              "      <th>23</th>\n",
              "      <td>5.364418e-07</td>\n",
              "      <td>1.490116e-06</td>\n",
              "      <td>0.0</td>\n",
              "      <td>0.0</td>\n",
              "    </tr>\n",
              "    <tr>\n",
              "      <th>24</th>\n",
              "      <td>1.549721e-06</td>\n",
              "      <td>2.264977e-06</td>\n",
              "      <td>0.0</td>\n",
              "      <td>0.0</td>\n",
              "    </tr>\n",
              "    <tr>\n",
              "      <th>25</th>\n",
              "      <td>1.370907e-06</td>\n",
              "      <td>2.026558e-06</td>\n",
              "      <td>0.0</td>\n",
              "      <td>0.0</td>\n",
              "    </tr>\n",
              "    <tr>\n",
              "      <th>26</th>\n",
              "      <td>5.960464e-07</td>\n",
              "      <td>1.609325e-06</td>\n",
              "      <td>0.0</td>\n",
              "      <td>0.0</td>\n",
              "    </tr>\n",
              "    <tr>\n",
              "      <th>27</th>\n",
              "      <td>1.430511e-06</td>\n",
              "      <td>2.086163e-06</td>\n",
              "      <td>0.0</td>\n",
              "      <td>0.0</td>\n",
              "    </tr>\n",
              "    <tr>\n",
              "      <th>28</th>\n",
              "      <td>1.132488e-06</td>\n",
              "      <td>1.907349e-06</td>\n",
              "      <td>0.0</td>\n",
              "      <td>0.0</td>\n",
              "    </tr>\n",
              "    <tr>\n",
              "      <th>29</th>\n",
              "      <td>1.192093e-06</td>\n",
              "      <td>2.920628e-06</td>\n",
              "      <td>0.0</td>\n",
              "      <td>0.0</td>\n",
              "    </tr>\n",
              "    <tr>\n",
              "      <th>30</th>\n",
              "      <td>2.980232e-07</td>\n",
              "      <td>1.430511e-06</td>\n",
              "      <td>0.0</td>\n",
              "      <td>0.0</td>\n",
              "    </tr>\n",
              "    <tr>\n",
              "      <th>31</th>\n",
              "      <td>5.364418e-07</td>\n",
              "      <td>1.370907e-06</td>\n",
              "      <td>0.0</td>\n",
              "      <td>0.0</td>\n",
              "    </tr>\n",
              "    <tr>\n",
              "      <th>32</th>\n",
              "      <td>4.172325e-07</td>\n",
              "      <td>1.728535e-06</td>\n",
              "      <td>0.0</td>\n",
              "      <td>0.0</td>\n",
              "    </tr>\n",
              "    <tr>\n",
              "      <th>33</th>\n",
              "      <td>8.344650e-07</td>\n",
              "      <td>2.026558e-06</td>\n",
              "      <td>0.0</td>\n",
              "      <td>0.0</td>\n",
              "    </tr>\n",
              "    <tr>\n",
              "      <th>34</th>\n",
              "      <td>6.556511e-07</td>\n",
              "      <td>1.430511e-06</td>\n",
              "      <td>0.0</td>\n",
              "      <td>0.0</td>\n",
              "    </tr>\n",
              "    <tr>\n",
              "      <th>35</th>\n",
              "      <td>1.549721e-06</td>\n",
              "      <td>5.960464e-07</td>\n",
              "      <td>1.0</td>\n",
              "      <td>1.0</td>\n",
              "    </tr>\n",
              "    <tr>\n",
              "      <th>36</th>\n",
              "      <td>1.966953e-06</td>\n",
              "      <td>7.152557e-07</td>\n",
              "      <td>1.0</td>\n",
              "      <td>1.0</td>\n",
              "    </tr>\n",
              "  </tbody>\n",
              "</table>\n",
              "</div>"
            ],
            "text/plain": [
              "          silmar       tankist  predict  class\n",
              "0   6.556511e-07  1.907349e-06      0.0    0.0\n",
              "1   7.748604e-07  1.966953e-06      0.0    0.0\n",
              "2   5.364418e-07  1.490116e-06      0.0    0.0\n",
              "3   4.172325e-07  1.430511e-06      0.0    0.0\n",
              "4   1.013279e-06  1.728535e-06      0.0    0.0\n",
              "5   2.443790e-06  1.490116e-06      1.0    1.0\n",
              "6   1.430511e-06  2.086163e-06      0.0    0.0\n",
              "7   3.576279e-07  1.132488e-06      0.0    0.0\n",
              "8   7.748604e-07  1.430511e-06      0.0    0.0\n",
              "9   8.344650e-07  2.026558e-06      0.0    0.0\n",
              "10  3.927946e-05  3.397465e-05      1.0    1.0\n",
              "11  6.556511e-07  1.847744e-06      0.0    0.0\n",
              "12  6.556511e-07  1.192093e-06      0.0    0.0\n",
              "13  4.172325e-07  1.430511e-06      0.0    0.0\n",
              "14  1.192093e-06  2.980232e-07      1.0    1.0\n",
              "15  1.072884e-06  2.682209e-06      0.0    0.0\n",
              "16  6.556511e-07  1.311302e-06      0.0    0.0\n",
              "17  2.741814e-06  1.072884e-06      1.0    1.0\n",
              "18  1.609325e-06  1.788139e-07      1.0    1.0\n",
              "19  1.013279e-06  1.490116e-06      0.0    0.0\n",
              "20  8.344650e-07  1.192093e-06      0.0    0.0\n",
              "21  1.132488e-06  2.563000e-06      0.0    0.0\n",
              "22  2.980232e-07  1.668930e-06      0.0    0.0\n",
              "23  5.364418e-07  1.490116e-06      0.0    0.0\n",
              "24  1.549721e-06  2.264977e-06      0.0    0.0\n",
              "25  1.370907e-06  2.026558e-06      0.0    0.0\n",
              "26  5.960464e-07  1.609325e-06      0.0    0.0\n",
              "27  1.430511e-06  2.086163e-06      0.0    0.0\n",
              "28  1.132488e-06  1.907349e-06      0.0    0.0\n",
              "29  1.192093e-06  2.920628e-06      0.0    0.0\n",
              "30  2.980232e-07  1.430511e-06      0.0    0.0\n",
              "31  5.364418e-07  1.370907e-06      0.0    0.0\n",
              "32  4.172325e-07  1.728535e-06      0.0    0.0\n",
              "33  8.344650e-07  2.026558e-06      0.0    0.0\n",
              "34  6.556511e-07  1.430511e-06      0.0    0.0\n",
              "35  1.549721e-06  5.960464e-07      1.0    1.0\n",
              "36  1.966953e-06  7.152557e-07      1.0    1.0"
            ]
          },
          "metadata": {
            "tags": []
          },
          "execution_count": 61
        }
      ]
    },
    {
      "cell_type": "code",
      "metadata": {
        "id": "v3w6shQp5a1A"
      },
      "source": [
        "W2V_score = accuracy_score(w2v_results['predict'], w2v_results['class'])"
      ],
      "execution_count": 62,
      "outputs": []
    },
    {
      "cell_type": "markdown",
      "metadata": {
        "id": "35QDNBe75PBQ"
      },
      "source": [
        "# Сравнение с другими классификаторами ML\r\n",
        "\r\n"
      ]
    },
    {
      "cell_type": "markdown",
      "metadata": {
        "id": "etOpusqL5cRi"
      },
      "source": [
        "Случайный лес"
      ]
    },
    {
      "cell_type": "code",
      "metadata": {
        "id": "58jqXXuE5a1G"
      },
      "source": [
        "from sklearn.ensemble import RandomForestClassifier\n",
        "RF_bof = RandomForestClassifier().fit(bof_train.toarray(), y_train.tolist())\n",
        "RF_bof_score = RF_bof.score(bof_test.toarray(), y_test.tolist())"
      ],
      "execution_count": 42,
      "outputs": []
    },
    {
      "cell_type": "code",
      "metadata": {
        "id": "joSOo0_U5a1M"
      },
      "source": [
        "RF_tfidf = RandomForestClassifier().fit(tfidf_train.toarray(), y_train.tolist())\r\n",
        "RF_tfidf_score = RF_tfidf.score(tfidf_test.toarray(), y_test.tolist())"
      ],
      "execution_count": 43,
      "outputs": []
    },
    {
      "cell_type": "code",
      "metadata": {
        "id": "HYPagdoo5a1R"
      },
      "source": [
        "RF_w2v = RandomForestClassifier().fit(w2v_train.T, y_train.tolist())\r\n",
        "RF_w2v_score = RF_w2v.score(w2v_test.T, y_test.tolist())"
      ],
      "execution_count": 44,
      "outputs": []
    },
    {
      "cell_type": "markdown",
      "metadata": {
        "id": "BuAesyUZ5gIc"
      },
      "source": [
        "Ближайшие соседи"
      ]
    },
    {
      "cell_type": "code",
      "metadata": {
        "id": "5yuxaqBI0z3o"
      },
      "source": [
        "from sklearn.neighbors import KNeighborsClassifier\r\n",
        "KN_bof = KNeighborsClassifier(n_neighbors=5).fit(bof_train.toarray(), y_train.tolist())\r\n",
        "KN_bof_score = KN_bof.score(bof_test.toarray(), y_test.tolist())"
      ],
      "execution_count": 45,
      "outputs": []
    },
    {
      "cell_type": "code",
      "metadata": {
        "id": "X2du8SE03j_H"
      },
      "source": [
        "KN_tfidf = KNeighborsClassifier(n_neighbors=10).fit(tfidf_train.toarray(), y_train.tolist())\r\n",
        "KN_tfidf_score = KN_tfidf.score(tfidf_test.toarray(), y_test.tolist())"
      ],
      "execution_count": 46,
      "outputs": []
    },
    {
      "cell_type": "code",
      "metadata": {
        "id": "hbSIsmK-4kDd"
      },
      "source": [
        "KN_w2v = KNeighborsClassifier(n_neighbors=10).fit(w2v_train.T, y_train.tolist())\r\n",
        "KN_w2v_score = KN_w2v.score(w2v_test.T, y_test.tolist())"
      ],
      "execution_count": 47,
      "outputs": []
    },
    {
      "cell_type": "markdown",
      "metadata": {
        "id": "YUZiCjMo5z-o"
      },
      "source": [
        "Решающее дерево"
      ]
    },
    {
      "cell_type": "code",
      "metadata": {
        "id": "KCIXGYWI6B2o"
      },
      "source": [
        "from sklearn.tree import DecisionTreeClassifier\r\n",
        "tree_bof = DecisionTreeClassifier().fit(bof_train.toarray(), y_train.tolist())\r\n",
        "tree_bof_score = tree_bof.score(bof_test.toarray(), y_test.tolist())"
      ],
      "execution_count": 48,
      "outputs": []
    },
    {
      "cell_type": "code",
      "metadata": {
        "id": "HmxahqLX7tf0"
      },
      "source": [
        "tree_tfidf = DecisionTreeClassifier().fit(tfidf_train, y_train.tolist())\r\n",
        "tree_tfidf_score = tree_tfidf.score(tfidf_test.toarray(), y_test.tolist())"
      ],
      "execution_count": 49,
      "outputs": []
    },
    {
      "cell_type": "code",
      "metadata": {
        "id": "VG4GSXro8Xiu"
      },
      "source": [
        "tree_w2v = DecisionTreeClassifier().fit(w2v_train.T, y_train.tolist())\r\n",
        "tree_w2v_score = tree_w2v.score(w2v_test.T, y_test.tolist())"
      ],
      "execution_count": 50,
      "outputs": []
    },
    {
      "cell_type": "markdown",
      "metadata": {
        "id": "Jzhdnqd9-wHf"
      },
      "source": [
        "Стахостический градиентный спуск"
      ]
    },
    {
      "cell_type": "code",
      "metadata": {
        "id": "wYmQ8_0a-zrb"
      },
      "source": [
        "from sklearn.linear_model import SGDClassifier\r\n",
        "Grad_bof = SGDClassifier().fit(bof_train.toarray(), y_train.tolist())\r\n",
        "Grad_bof_score = Grad_bof.score(bof_test.toarray(), y_test.tolist())"
      ],
      "execution_count": 51,
      "outputs": []
    },
    {
      "cell_type": "code",
      "metadata": {
        "id": "uGERnanM_hE3"
      },
      "source": [
        "Grad_tfidf = SGDClassifier().fit(tfidf_train.toarray(), y_train.tolist())\r\n",
        "Grad_tfidf_score = Grad_tfidf.score(tfidf_test.toarray(), y_test.tolist())"
      ],
      "execution_count": 52,
      "outputs": []
    },
    {
      "cell_type": "code",
      "metadata": {
        "id": "CQrHS7Xy_wKF"
      },
      "source": [
        "Grad_w2v = SGDClassifier().fit(w2v_train.T, y_train.tolist())\r\n",
        "Grad_w2v_score = Grad_w2v.score(w2v_test.T, y_test.tolist())"
      ],
      "execution_count": 53,
      "outputs": []
    },
    {
      "cell_type": "markdown",
      "metadata": {
        "id": "pYKPuYULOL2q"
      },
      "source": [
        "Опорные вектора"
      ]
    },
    {
      "cell_type": "code",
      "metadata": {
        "id": "YLA5zLwLOKrw"
      },
      "source": [
        "from sklearn.svm import SVC\r\n",
        "SVC_bof = SVC().fit(bof_train.toarray(), y_train.tolist())\r\n",
        "SVC_bof_score = SVC_bof.score(bof_test.toarray(), y_test.tolist())"
      ],
      "execution_count": 54,
      "outputs": []
    },
    {
      "cell_type": "code",
      "metadata": {
        "id": "8e3s28THQIrs"
      },
      "source": [
        "SVC_tfidf = SVC().fit(tfidf_train.toarray(), y_train.tolist())\r\n",
        "SVC_tfidf_score = SVC_tfidf.score(tfidf_test.toarray(), y_test.tolist())"
      ],
      "execution_count": 55,
      "outputs": []
    },
    {
      "cell_type": "code",
      "metadata": {
        "id": "fVnCPf1mQqRZ"
      },
      "source": [
        "SVC_w2v = SVC().fit(w2v_train.T, y_train.tolist())\r\n",
        "SVC_w2v_score = SVC_w2v.score(w2v_test.T, y_test.tolist())"
      ],
      "execution_count": 56,
      "outputs": []
    },
    {
      "cell_type": "markdown",
      "metadata": {
        "id": "Igb4HMyNRXba"
      },
      "source": [
        "Наивный байес"
      ]
    },
    {
      "cell_type": "code",
      "metadata": {
        "id": "M4NS4-V1RWh8"
      },
      "source": [
        "from sklearn.naive_bayes import GaussianNB\r\n",
        "NB_bof = GaussianNB().fit(bof_train.toarray(), y_train.tolist())\r\n",
        "NB_bof_score = NB_bof.score(bof_test.toarray(), y_test.tolist())"
      ],
      "execution_count": 57,
      "outputs": []
    },
    {
      "cell_type": "code",
      "metadata": {
        "id": "300894ZkSLlQ"
      },
      "source": [
        "NB_tfidf = GaussianNB().fit(tfidf_train.toarray(), y_train.tolist())\r\n",
        "NB_tfidf_score = NB_tfidf.score(tfidf_test.toarray(), y_test.tolist())"
      ],
      "execution_count": 58,
      "outputs": []
    },
    {
      "cell_type": "code",
      "metadata": {
        "id": "LHNB3s-ySujP"
      },
      "source": [
        "NB_w2v = GaussianNB().fit(w2v_train.T, y_train.tolist())\r\n",
        "NB_w2v_score = NB_w2v.score(w2v_test.T, y_test.tolist())"
      ],
      "execution_count": 59,
      "outputs": []
    },
    {
      "cell_type": "markdown",
      "metadata": {
        "id": "ykqaTUgrFNN8"
      },
      "source": [
        "Сведём результаты всех классификаторов в таблицу"
      ]
    },
    {
      "cell_type": "code",
      "metadata": {
        "id": "5Dud1OwqV2l1",
        "colab": {
          "base_uri": "https://localhost:8080/",
          "height": 254
        },
        "outputId": "ba73ab5a-a3a3-4b83-803d-fe8b661359d4"
      },
      "source": [
        "import pandas as pd\r\n",
        "from pandas import DataFrame\r\n",
        "\r\n",
        "data = {'name_of_classifier':['My_clf',\r\n",
        "                              'KNeighbors(KN)',\r\n",
        "                              'RF',\r\n",
        "                              'tree',\r\n",
        "                              'Grad',\r\n",
        "                              'SVC',\r\n",
        "                              'NB'],\r\n",
        "        'bof_score':[BOF_score,\r\n",
        "                 KN_bof_score,  \r\n",
        "                 RF_bof_score,  \r\n",
        "                 tree_bof_score,  \r\n",
        "                 Grad_bof_score,  \r\n",
        "                 SVC_bof_score,  \r\n",
        "                 NB_bof_score],\r\n",
        "        'tfidf_score':[TF_IDF_score,\r\n",
        "                       KN_tfidf_score, \r\n",
        "                       RF_tfidf_score, \r\n",
        "                       tree_tfidf_score,\r\n",
        "                       Grad_tfidf_score,\r\n",
        "                       SVC_tfidf_score,\r\n",
        "                       NB_tfidf_score],\r\n",
        "        'w2v_score':[W2V_score,\r\n",
        "                     KN_w2v_score,\r\n",
        "                     RF_w2v_score,\r\n",
        "                     tree_w2v_score,\r\n",
        "                     Grad_w2v_score,\r\n",
        "                     SVC_w2v_score,\r\n",
        "                     NB_w2v_score]}\r\n",
        "df = pd.DataFrame(data)\r\n",
        "df"
      ],
      "execution_count": 63,
      "outputs": [
        {
          "output_type": "execute_result",
          "data": {
            "text/html": [
              "<div>\n",
              "<style scoped>\n",
              "    .dataframe tbody tr th:only-of-type {\n",
              "        vertical-align: middle;\n",
              "    }\n",
              "\n",
              "    .dataframe tbody tr th {\n",
              "        vertical-align: top;\n",
              "    }\n",
              "\n",
              "    .dataframe thead th {\n",
              "        text-align: right;\n",
              "    }\n",
              "</style>\n",
              "<table border=\"1\" class=\"dataframe\">\n",
              "  <thead>\n",
              "    <tr style=\"text-align: right;\">\n",
              "      <th></th>\n",
              "      <th>name_of_classifier</th>\n",
              "      <th>bof_score</th>\n",
              "      <th>tfidf_score</th>\n",
              "      <th>w2v_score</th>\n",
              "    </tr>\n",
              "  </thead>\n",
              "  <tbody>\n",
              "    <tr>\n",
              "      <th>0</th>\n",
              "      <td>My_clf</td>\n",
              "      <td>0.567568</td>\n",
              "      <td>0.810811</td>\n",
              "      <td>1.000000</td>\n",
              "    </tr>\n",
              "    <tr>\n",
              "      <th>1</th>\n",
              "      <td>KNeighbors(KN)</td>\n",
              "      <td>0.864865</td>\n",
              "      <td>0.972973</td>\n",
              "      <td>0.864865</td>\n",
              "    </tr>\n",
              "    <tr>\n",
              "      <th>2</th>\n",
              "      <td>RF</td>\n",
              "      <td>0.945946</td>\n",
              "      <td>0.945946</td>\n",
              "      <td>0.918919</td>\n",
              "    </tr>\n",
              "    <tr>\n",
              "      <th>3</th>\n",
              "      <td>tree</td>\n",
              "      <td>0.918919</td>\n",
              "      <td>0.945946</td>\n",
              "      <td>0.918919</td>\n",
              "    </tr>\n",
              "    <tr>\n",
              "      <th>4</th>\n",
              "      <td>Grad</td>\n",
              "      <td>1.000000</td>\n",
              "      <td>0.972973</td>\n",
              "      <td>0.810811</td>\n",
              "    </tr>\n",
              "    <tr>\n",
              "      <th>5</th>\n",
              "      <td>SVC</td>\n",
              "      <td>1.000000</td>\n",
              "      <td>0.945946</td>\n",
              "      <td>0.810811</td>\n",
              "    </tr>\n",
              "    <tr>\n",
              "      <th>6</th>\n",
              "      <td>NB</td>\n",
              "      <td>1.000000</td>\n",
              "      <td>1.000000</td>\n",
              "      <td>0.756757</td>\n",
              "    </tr>\n",
              "  </tbody>\n",
              "</table>\n",
              "</div>"
            ],
            "text/plain": [
              "  name_of_classifier  bof_score  tfidf_score  w2v_score\n",
              "0             My_clf   0.567568     0.810811   1.000000\n",
              "1     KNeighbors(KN)   0.864865     0.972973   0.864865\n",
              "2                 RF   0.945946     0.945946   0.918919\n",
              "3               tree   0.918919     0.945946   0.918919\n",
              "4               Grad   1.000000     0.972973   0.810811\n",
              "5                SVC   1.000000     0.945946   0.810811\n",
              "6                 NB   1.000000     1.000000   0.756757"
            ]
          },
          "metadata": {
            "tags": []
          },
          "execution_count": 63
        }
      ]
    }
  ]
}